{
  "nbformat": 4,
  "nbformat_minor": 0,
  "metadata": {
    "colab": {
      "name": "manga_stream.ipynb",
      "provenance": [],
      "collapsed_sections": [],
      "authorship_tag": "ABX9TyM23+u91p0yhW9cSRn7HhXV",
      "include_colab_link": true
    },
    "kernelspec": {
      "name": "python3",
      "display_name": "Python 3"
    }
  },
  "cells": [
    {
      "cell_type": "markdown",
      "metadata": {
        "id": "view-in-github",
        "colab_type": "text"
      },
      "source": [
        "<a href=\"https://colab.research.google.com/github/AtlasLearner/manga_stream/blob/main/manga_stream.ipynb\" target=\"_parent\"><img src=\"https://colab.research.google.com/assets/colab-badge.svg\" alt=\"Open In Colab\"/></a>"
      ]
    },
    {
      "cell_type": "markdown",
      "metadata": {
        "id": "JL3lm3cJX27a"
      },
      "source": [
        "# Libraries"
      ]
    },
    {
      "cell_type": "code",
      "metadata": {
        "id": "jnkbhreRcpRP"
      },
      "source": [
        "import re\n",
        "import urllib.request\n",
        "from bs4 import BeautifulSoup\n",
        "import requests\n",
        "from google.colab import files"
      ],
      "execution_count": 1,
      "outputs": []
    },
    {
      "cell_type": "code",
      "metadata": {
        "id": "HGurfXhYZP2A"
      },
      "source": [
        "#!/usr/bin/python\n",
        "import os, sys\n",
        "\n",
        "# Path to be created\n",
        "hpath = '/content/'"
      ],
      "execution_count": 2,
      "outputs": []
    },
    {
      "cell_type": "code",
      "metadata": {
        "colab": {
          "base_uri": "https://localhost:8080/"
        },
        "id": "wz2otI5Us8VH",
        "outputId": "db7f8d8d-05a1-4324-9770-1d3b9043a34e"
      },
      "source": [
        "# Logging to see requests status\n",
        "import logging\n",
        "\n",
        "import http.client\n",
        " # Set to 1 for debug mode\n",
        "http.client.HTTPConnection.debuglevel = 0\n",
        "\n",
        "# You must initialize logging, otherwise you'll not see debug output.\n",
        "logging.basicConfig()\n",
        "logging.getLogger().setLevel(logging.DEBUG)\n",
        "requests_log = logging.getLogger(\"requests.packages.urllib3\")\n",
        "requests_log.setLevel(logging.DEBUG)\n",
        "requests_log.propagate = False\n",
        "\n",
        "requests.get(\"https://www.google.com\")"
      ],
      "execution_count": 3,
      "outputs": [
        {
          "output_type": "stream",
          "text": [
            "DEBUG:urllib3.connectionpool:Starting new HTTPS connection (1): www.google.com:443\n",
            "DEBUG:urllib3.connectionpool:https://www.google.com:443 \"GET / HTTP/1.1\" 200 None\n"
          ],
          "name": "stderr"
        },
        {
          "output_type": "execute_result",
          "data": {
            "text/plain": [
              "<Response [200]>"
            ]
          },
          "metadata": {
            "tags": []
          },
          "execution_count": 3
        }
      ]
    },
    {
      "cell_type": "markdown",
      "metadata": {
        "id": "-bZb99UhXwAZ"
      },
      "source": [
        "# Variables"
      ]
    },
    {
      "cell_type": "code",
      "metadata": {
        "id": "b0JXR5Zgcu0z"
      },
      "source": [
        "# Store chapter and respective links\n",
        "chapters = []\n",
        "\n",
        "# Store chapter names that have been downloaded\n",
        "completed = []\n",
        "\n",
        "\n",
        "# One Piece Chapter Link\n",
        "OP_URL  = \"https://onepiecechapters.com/manga/one-piece-chapter-{}/\"\n",
        "BNHA_URL = \"https://w20.readheroacademia.com/manga/boku-no-hero-academia-chapter-{}/.\"\n",
        "\n",
        "# File Naming System\n",
        "OP_CN = \"One_Piece_-_Chapter_\"\n",
        "BNHA_CN = \"Boku_no_Hero_Academia_-_Chapter_\""
      ],
      "execution_count": 21,
      "outputs": []
    },
    {
      "cell_type": "markdown",
      "metadata": {
        "id": "imuqZXSVXu1d"
      },
      "source": [
        "## Get all img_links using Beautiful Soup"
      ]
    },
    {
      "cell_type": "code",
      "metadata": {
        "id": "XSkUXZsqvlEY"
      },
      "source": [
        "def get_img_links(start, end, url, CN):\n",
        "    print(\"Running\\n\")\n",
        "    for j in range(start, end + 1):\n",
        "        print(\"Current Chapter: \", j)\n",
        "        URL = url.format(j)\n",
        "        print(URL + \"\\n\")\n",
        "        request = requests.get(URL)\n",
        "        if request.status_code == 200:\n",
        "            # requests.get()\n",
        "            #   - If slow\n",
        "            #       1) Use header - Simulates as a website (the intended use) for websites that prevent web scraping\n",
        "            #       2) Use timeout = 5 due to ipv4 vs ipv6\n",
        "            page = requests.get(URL)\n",
        "            \n",
        "            page_content = BeautifulSoup(page.content, 'html.parser')\n",
        "            row_data = [j, CN]\n",
        "            \n",
        "            # Finds all src/links of pictures in <img> tags\n",
        "            for row in page_content.findAll('img'):\n",
        "                link = row.attrs.get(\"src\")\n",
        "                link = re.findall('[^.]ttps://.*jpg|[^.]ttps://.*png', link)\n",
        "                row_data.append(link)\n",
        "\n",
        "            # Removes invalid links based on regex expression\n",
        "            for i,x in enumerate(row_data):\n",
        "                if x==[]:\n",
        "                    row_data.remove([])\n",
        "\n",
        "            chapters.append(row_data)\n",
        "\n",
        "            \n",
        "        else:\n",
        "            print(\"Fail to connect. #FUCKKKKKKKKKKKKKKKKKKKKKKKKKKKKKKKKKKKKKK\")\n",
        "            break\n",
        "\n",
        "    print(chapters)"
      ],
      "execution_count": 4,
      "outputs": []
    },
    {
      "cell_type": "markdown",
      "metadata": {
        "id": "4EOIyO0XXmQK"
      },
      "source": [
        "## Download all chapters with their respective img links"
      ]
    },
    {
      "cell_type": "code",
      "metadata": {
        "id": "V3Ar__47LKHz"
      },
      "source": [
        "def dl_chapters():\n",
        "    for j in range(len(chapters)):\n",
        "        print(j)\n",
        "        for i in range(len(chapters[j])):\n",
        "            if i == 0:\n",
        "                chapter_name = str(chapters[j][i+1]) + str(chapters[j][i]) + '_-_'\n",
        "                completed.append(chapter_name)\n",
        "                os.mkdir(chapter_name)\n",
        "                os.chdir(chapter_name)\n",
        "                !pwd\n",
        "                continue\n",
        "            elif i == 1:\n",
        "                continue\n",
        "            else:\n",
        "                Image_URL=''.join(map(str, chapters[j][i]))\n",
        "\n",
        "                filename = re.search(r'/([\\+\\%\\w_-]+[.](jpg|gif|png))$', Image_URL)\n",
        "                if not filename:\n",
        "                    print(\"Regex didn't match with the url: {}\".format(Image_URL))\n",
        "                    continue\n",
        "                \n",
        "                with open('{0:02d}'.format(i-1) + \" - \" + filename.group(1), 'wb') as f:\n",
        "                    response = requests.get(Image_URL)\n",
        "                    if response.status_code == 200:\n",
        "                        f.write(response.content)\n",
        "                        f.close()\n",
        "                    \n",
        "                    else:\n",
        "                    # .group() gives the group based on an index on the regex expression - so 0 is the whole thing, 1 is the group onwards, 2 is (jpg|gif|png)\n",
        "                        print(filename.group(1) + \" - FAILED\")\n",
        "\n",
        "        os.chdir(hpath)\n",
        "        os.system('zip -r /content/' + chapter_name + '.zip ' + chapter_name)\n",
        "        files.download(chapter_name + '.zip')\n",
        "\n",
        "\n",
        "    print(\"Downloaded chapters: \")\n",
        "    print(completed)\n"
      ],
      "execution_count": 63,
      "outputs": []
    },
    {
      "cell_type": "markdown",
      "metadata": {
        "id": "iUx6i1PiXZJx"
      },
      "source": [
        "## Run the program\n",
        "Remember to change chapter number every week - last updated 22/11/2020\n"
      ]
    },
    {
      "cell_type": "code",
      "metadata": {
        "colab": {
          "base_uri": "https://localhost:8080/",
          "height": 1000
        },
        "id": "bUQatoIM_j88",
        "outputId": "e57dca9d-3c22-42ec-d397-53109ae99d1a"
      },
      "source": [
        "# Run this where parameters are number of start of chapter, end of chapter, URL, naming\n",
        "\n",
        "get_img_links(995, 996, OP_URL, OP_CN)\n",
        "get_img_links(260, 280, BNHA_URL, BNHA_CN)\n",
        "\n",
        "dl_chapters()"
      ],
      "execution_count": 6,
      "outputs": [
        {
          "output_type": "stream",
          "text": [
            "Running\n",
            "\n",
            "Current Chapter:  995\n",
            "https://onepiecechapters.com/manga/one-piece-chapter-995/\n",
            "\n",
            "<Response [200]>\n",
            "Current Chapter:  996\n",
            "https://onepiecechapters.com/manga/one-piece-chapter-996/\n",
            "\n",
            "<Response [200]>\n",
            "[[995, 'One_Piece_-_Chapter_', ['https://onepiecechapters.com/wp-content/uploads/2020/05/OPthub.png'], ['https://cdn.imageart.online/file/CDN-M-A-N/995+Page+0.png'], ['https://cdn.imageart.online/file/CDN-M-A-N/995+Page+1.png'], ['https://cdn.imageart.online/file/CDN-M-A-N/995+Page+2.png'], ['https://cdn.imageart.online/file/CDN-M-A-N/op995%20Page%203v2.png'], ['https://cdn.imageart.online/file/CDN-M-A-N/op_995%20Page%204-5.png'], ['https://cdn.imageart.online/file/CDN-M-A-N/op_995%20Page%206.png'], ['https://cdn.imageart.online/file/CDN-M-A-N/995+Page+7.png'], ['https://cdn.imageart.online/file/CDN-M-A-N/995+Page+8.png'], ['https://cdn.imageart.online/file/CDN-M-A-N/995+Page+9.png'], ['https://cdn.imageart.online/file/CDN-M-A-N/995+Page+10.png'], ['https://cdn.imageart.online/file/CDN-M-A-N/op995%20Page%2011v2.png'], ['https://cdn.imageart.online/file/CDN-M-A-N/995+Page+12v2.png'], ['https://cdn.imageart.online/file/CDN-M-A-N/op_995%20Page%2013.png'], ['https://cdn.imageart.online/file/CDN-M-A-N/op_995%20Page%2014.png'], ['https://cdn.imageart.online/file/CDN-M-A-N/op_995%20Page%2015.png'], ['https://cdn.imageart.online/file/CDN-M-A-N/995%20Page%2016v2.png'], ['https://cdn.imageart.online/file/CDN-M-A-N/op995%20Page%2017v2.png'], ['https://cdn.imageart.online/file/CDN-M-A-N/op_995%20Page%2018.png']], [996, 'One_Piece_-_Chapter_', ['https://onepiecechapters.com/wp-content/uploads/2020/05/OPthub.png'], ['https://cdn.imageart.online/file/CDN-M-A-N/op_996%20Page%200.png'], ['https://cdn.imageart.online/file/CDN-M-A-N/op_996%20Page%201.png'], ['https://cdn.imageart.online/file/CDN-M-A-N/op_v2_996%20Page%202.png'], ['https://cdn.imageart.online/file/CDN-M-A-N/op_996%20Page%203.png'], ['https://cdn.imageart.online/file/CDN-M-A-N/op_996%20Page%204.png'], ['https://cdn.imageart.online/file/CDN-M-A-N/op_v2_996%20Page%205.png'], ['https://cdn.imageart.online/file/CDN-M-A-N/op_996%20Page%206.png'], ['https://cdn.imageart.online/file/CDN-M-A-N/op_996%20Page%207.png'], ['https://cdn.imageart.online/file/CDN-M-A-N/op_996%20Page%208.png'], ['https://cdn.imageart.online/file/CDN-M-A-N/op_v2_996%20Page%209.png'], ['https://cdn.imageart.online/file/CDN-M-A-N/op_996%20Page%2010.png'], ['https://cdn.imageart.online/file/CDN-M-A-N/op_996%20Page%2011.png'], ['https://cdn.imageart.online/file/CDN-M-A-N/996%20Page%2012v2.png'], ['https://cdn.imageart.online/file/CDN-M-A-N/op_v2_996%20Page%2013.png'], ['https://cdn.imageart.online/file/CDN-M-A-N/op_996%20Page%2014.png'], ['https://cdn.imageart.online/file/CDN-M-A-N/op_996%20Page%2015.png'], ['https://cdn.imageart.online/file/CDN-M-A-N/op_996%20Page%2016.png'], ['https://cdn.imageart.online/file/CDN-M-A-N/op996%20Page%2017v6.png'], ['https://cdn.imageart.online/file/CDN-M-A-N/op_996%20Page%2018.png']]]\n",
            "Running\n",
            "\n",
            "Current Chapter:  260\n",
            "https://w20.readheroacademia.com/manga/boku-no-hero-academia-chapter-260/.\n",
            "\n",
            "<Response [200]>\n",
            "Current Chapter:  261\n",
            "https://w20.readheroacademia.com/manga/boku-no-hero-academia-chapter-261/.\n",
            "\n",
            "<Response [200]>\n",
            "Current Chapter:  262\n",
            "https://w20.readheroacademia.com/manga/boku-no-hero-academia-chapter-262/.\n",
            "\n",
            "<Response [200]>\n",
            "Current Chapter:  263\n",
            "https://w20.readheroacademia.com/manga/boku-no-hero-academia-chapter-263/.\n",
            "\n",
            "<Response [200]>\n",
            "Current Chapter:  264\n",
            "https://w20.readheroacademia.com/manga/boku-no-hero-academia-chapter-264/.\n",
            "\n",
            "<Response [200]>\n",
            "Current Chapter:  265\n",
            "https://w20.readheroacademia.com/manga/boku-no-hero-academia-chapter-265/.\n",
            "\n",
            "<Response [200]>\n",
            "Current Chapter:  266\n",
            "https://w20.readheroacademia.com/manga/boku-no-hero-academia-chapter-266/.\n",
            "\n",
            "<Response [200]>\n",
            "Current Chapter:  267\n",
            "https://w20.readheroacademia.com/manga/boku-no-hero-academia-chapter-267/.\n",
            "\n",
            "<Response [200]>\n",
            "Current Chapter:  268\n",
            "https://w20.readheroacademia.com/manga/boku-no-hero-academia-chapter-268/.\n",
            "\n",
            "<Response [200]>\n",
            "Current Chapter:  269\n",
            "https://w20.readheroacademia.com/manga/boku-no-hero-academia-chapter-269/.\n",
            "\n",
            "<Response [200]>\n",
            "Current Chapter:  270\n",
            "https://w20.readheroacademia.com/manga/boku-no-hero-academia-chapter-270/.\n",
            "\n",
            "<Response [200]>\n",
            "Current Chapter:  271\n",
            "https://w20.readheroacademia.com/manga/boku-no-hero-academia-chapter-271/.\n",
            "\n",
            "<Response [200]>\n",
            "Current Chapter:  272\n",
            "https://w20.readheroacademia.com/manga/boku-no-hero-academia-chapter-272/.\n",
            "\n",
            "<Response [200]>\n",
            "Current Chapter:  273\n",
            "https://w20.readheroacademia.com/manga/boku-no-hero-academia-chapter-273/.\n",
            "\n",
            "<Response [200]>\n",
            "Current Chapter:  274\n",
            "https://w20.readheroacademia.com/manga/boku-no-hero-academia-chapter-274/.\n",
            "\n",
            "<Response [200]>\n",
            "Current Chapter:  275\n",
            "https://w20.readheroacademia.com/manga/boku-no-hero-academia-chapter-275/.\n",
            "\n",
            "<Response [200]>\n",
            "Current Chapter:  276\n",
            "https://w20.readheroacademia.com/manga/boku-no-hero-academia-chapter-276/.\n",
            "\n",
            "<Response [200]>\n",
            "Current Chapter:  277\n",
            "https://w20.readheroacademia.com/manga/boku-no-hero-academia-chapter-277/.\n",
            "\n",
            "<Response [200]>\n",
            "Current Chapter:  278\n",
            "https://w20.readheroacademia.com/manga/boku-no-hero-academia-chapter-278/.\n",
            "\n",
            "<Response [200]>\n",
            "Current Chapter:  279\n",
            "https://w20.readheroacademia.com/manga/boku-no-hero-academia-chapter-279/.\n",
            "\n",
            "<Response [200]>\n",
            "Current Chapter:  280\n",
            "https://w20.readheroacademia.com/manga/boku-no-hero-academia-chapter-280/.\n",
            "\n",
            "<Response [200]>\n",
            "[[995, 'One_Piece_-_Chapter_', ['https://onepiecechapters.com/wp-content/uploads/2020/05/OPthub.png'], ['https://cdn.imageart.online/file/CDN-M-A-N/995+Page+0.png'], ['https://cdn.imageart.online/file/CDN-M-A-N/995+Page+1.png'], ['https://cdn.imageart.online/file/CDN-M-A-N/995+Page+2.png'], ['https://cdn.imageart.online/file/CDN-M-A-N/op995%20Page%203v2.png'], ['https://cdn.imageart.online/file/CDN-M-A-N/op_995%20Page%204-5.png'], ['https://cdn.imageart.online/file/CDN-M-A-N/op_995%20Page%206.png'], ['https://cdn.imageart.online/file/CDN-M-A-N/995+Page+7.png'], ['https://cdn.imageart.online/file/CDN-M-A-N/995+Page+8.png'], ['https://cdn.imageart.online/file/CDN-M-A-N/995+Page+9.png'], ['https://cdn.imageart.online/file/CDN-M-A-N/995+Page+10.png'], ['https://cdn.imageart.online/file/CDN-M-A-N/op995%20Page%2011v2.png'], ['https://cdn.imageart.online/file/CDN-M-A-N/995+Page+12v2.png'], ['https://cdn.imageart.online/file/CDN-M-A-N/op_995%20Page%2013.png'], ['https://cdn.imageart.online/file/CDN-M-A-N/op_995%20Page%2014.png'], ['https://cdn.imageart.online/file/CDN-M-A-N/op_995%20Page%2015.png'], ['https://cdn.imageart.online/file/CDN-M-A-N/995%20Page%2016v2.png'], ['https://cdn.imageart.online/file/CDN-M-A-N/op995%20Page%2017v2.png'], ['https://cdn.imageart.online/file/CDN-M-A-N/op_995%20Page%2018.png']], [996, 'One_Piece_-_Chapter_', ['https://onepiecechapters.com/wp-content/uploads/2020/05/OPthub.png'], ['https://cdn.imageart.online/file/CDN-M-A-N/op_996%20Page%200.png'], ['https://cdn.imageart.online/file/CDN-M-A-N/op_996%20Page%201.png'], ['https://cdn.imageart.online/file/CDN-M-A-N/op_v2_996%20Page%202.png'], ['https://cdn.imageart.online/file/CDN-M-A-N/op_996%20Page%203.png'], ['https://cdn.imageart.online/file/CDN-M-A-N/op_996%20Page%204.png'], ['https://cdn.imageart.online/file/CDN-M-A-N/op_v2_996%20Page%205.png'], ['https://cdn.imageart.online/file/CDN-M-A-N/op_996%20Page%206.png'], ['https://cdn.imageart.online/file/CDN-M-A-N/op_996%20Page%207.png'], ['https://cdn.imageart.online/file/CDN-M-A-N/op_996%20Page%208.png'], ['https://cdn.imageart.online/file/CDN-M-A-N/op_v2_996%20Page%209.png'], ['https://cdn.imageart.online/file/CDN-M-A-N/op_996%20Page%2010.png'], ['https://cdn.imageart.online/file/CDN-M-A-N/op_996%20Page%2011.png'], ['https://cdn.imageart.online/file/CDN-M-A-N/996%20Page%2012v2.png'], ['https://cdn.imageart.online/file/CDN-M-A-N/op_v2_996%20Page%2013.png'], ['https://cdn.imageart.online/file/CDN-M-A-N/op_996%20Page%2014.png'], ['https://cdn.imageart.online/file/CDN-M-A-N/op_996%20Page%2015.png'], ['https://cdn.imageart.online/file/CDN-M-A-N/op_996%20Page%2016.png'], ['https://cdn.imageart.online/file/CDN-M-A-N/op996%20Page%2017v6.png'], ['https://cdn.imageart.online/file/CDN-M-A-N/op_996%20Page%2018.png']], [260, 'Boku_no_Hero_Academia_-_Chapter_', ['https://w20.readheroacademia.com/wp-content/uploads/2018/01/mhamanga.jpg'], ['https://s6.mangabeast01.com/manga/Boku-No-Hero-Academia/0260-001.png'], ['https://s6.mangabeast01.com/manga/Boku-No-Hero-Academia/0260-002.png'], ['https://s6.mangabeast01.com/manga/Boku-No-Hero-Academia/0260-003.png'], ['https://s6.mangabeast01.com/manga/Boku-No-Hero-Academia/0260-004.png'], ['https://s6.mangabeast01.com/manga/Boku-No-Hero-Academia/0260-005.png'], ['https://s6.mangabeast01.com/manga/Boku-No-Hero-Academia/0260-006.png'], ['https://s6.mangabeast01.com/manga/Boku-No-Hero-Academia/0260-007.png'], ['https://s6.mangabeast01.com/manga/Boku-No-Hero-Academia/0260-008.png'], ['https://s6.mangabeast01.com/manga/Boku-No-Hero-Academia/0260-009.png'], ['https://s6.mangabeast01.com/manga/Boku-No-Hero-Academia/0260-010.png'], ['https://s6.mangabeast01.com/manga/Boku-No-Hero-Academia/0260-011.png'], ['https://s6.mangabeast01.com/manga/Boku-No-Hero-Academia/0260-012.png'], ['https://s6.mangabeast01.com/manga/Boku-No-Hero-Academia/0260-013.png'], ['https://s6.mangabeast01.com/manga/Boku-No-Hero-Academia/0260-014.png']], [261, 'Boku_no_Hero_Academia_-_Chapter_', ['https://w20.readheroacademia.com/wp-content/uploads/2018/01/mhamanga.jpg'], ['https://s6.mangabeast01.com/manga/Boku-No-Hero-Academia/0261-001.png'], ['https://s6.mangabeast01.com/manga/Boku-No-Hero-Academia/0261-002.png'], ['https://s6.mangabeast01.com/manga/Boku-No-Hero-Academia/0261-003.png'], ['https://s6.mangabeast01.com/manga/Boku-No-Hero-Academia/0261-004.png'], ['https://s6.mangabeast01.com/manga/Boku-No-Hero-Academia/0261-005.png'], ['https://s6.mangabeast01.com/manga/Boku-No-Hero-Academia/0261-006.png'], ['https://s6.mangabeast01.com/manga/Boku-No-Hero-Academia/0261-007.png'], ['https://s6.mangabeast01.com/manga/Boku-No-Hero-Academia/0261-008.png'], ['https://s6.mangabeast01.com/manga/Boku-No-Hero-Academia/0261-009.png'], ['https://s6.mangabeast01.com/manga/Boku-No-Hero-Academia/0261-010.png'], ['https://s6.mangabeast01.com/manga/Boku-No-Hero-Academia/0261-011.png'], ['https://s6.mangabeast01.com/manga/Boku-No-Hero-Academia/0261-012.png'], ['https://s6.mangabeast01.com/manga/Boku-No-Hero-Academia/0261-013.png'], ['https://s6.mangabeast01.com/manga/Boku-No-Hero-Academia/0261-014.png'], ['https://s6.mangabeast01.com/manga/Boku-No-Hero-Academia/0261-015.png'], ['https://s6.mangabeast01.com/manga/Boku-No-Hero-Academia/0261-016.png']], [262, 'Boku_no_Hero_Academia_-_Chapter_', ['https://w20.readheroacademia.com/wp-content/uploads/2018/01/mhamanga.jpg'], ['https://s6.mangabeast01.com/manga/Boku-No-Hero-Academia/0262-001.png'], ['https://s6.mangabeast01.com/manga/Boku-No-Hero-Academia/0262-002.png'], ['https://s6.mangabeast01.com/manga/Boku-No-Hero-Academia/0262-003.png'], ['https://s6.mangabeast01.com/manga/Boku-No-Hero-Academia/0262-004.png'], ['https://s6.mangabeast01.com/manga/Boku-No-Hero-Academia/0262-005.png'], ['https://s6.mangabeast01.com/manga/Boku-No-Hero-Academia/0262-006.png'], ['https://s6.mangabeast01.com/manga/Boku-No-Hero-Academia/0262-007.png'], ['https://s6.mangabeast01.com/manga/Boku-No-Hero-Academia/0262-008.png'], ['https://s6.mangabeast01.com/manga/Boku-No-Hero-Academia/0262-009.png'], ['https://s6.mangabeast01.com/manga/Boku-No-Hero-Academia/0262-010.png'], ['https://s6.mangabeast01.com/manga/Boku-No-Hero-Academia/0262-011.png'], ['https://s6.mangabeast01.com/manga/Boku-No-Hero-Academia/0262-012.png'], ['https://s6.mangabeast01.com/manga/Boku-No-Hero-Academia/0262-013.png'], ['https://s6.mangabeast01.com/manga/Boku-No-Hero-Academia/0262-014.png'], ['https://s6.mangabeast01.com/manga/Boku-No-Hero-Academia/0262-015.png'], ['https://s6.mangabeast01.com/manga/Boku-No-Hero-Academia/0262-016.png'], ['https://s6.mangabeast01.com/manga/Boku-No-Hero-Academia/0262-017.png']], [263, 'Boku_no_Hero_Academia_-_Chapter_', ['https://w20.readheroacademia.com/wp-content/uploads/2018/01/mhamanga.jpg'], ['https://s6.mangabeast01.com/manga/Boku-No-Hero-Academia/0263-001.png'], ['https://s6.mangabeast01.com/manga/Boku-No-Hero-Academia/0263-002.png'], ['https://s6.mangabeast01.com/manga/Boku-No-Hero-Academia/0263-003.png'], ['https://s6.mangabeast01.com/manga/Boku-No-Hero-Academia/0263-004.png'], ['https://s6.mangabeast01.com/manga/Boku-No-Hero-Academia/0263-005.png'], ['https://s6.mangabeast01.com/manga/Boku-No-Hero-Academia/0263-006.png'], ['https://s6.mangabeast01.com/manga/Boku-No-Hero-Academia/0263-007.png'], ['https://s6.mangabeast01.com/manga/Boku-No-Hero-Academia/0263-008.png'], ['https://s6.mangabeast01.com/manga/Boku-No-Hero-Academia/0263-009.png'], ['https://s6.mangabeast01.com/manga/Boku-No-Hero-Academia/0263-010.png'], ['https://s6.mangabeast01.com/manga/Boku-No-Hero-Academia/0263-011.png'], ['https://s6.mangabeast01.com/manga/Boku-No-Hero-Academia/0263-012.png'], ['https://s6.mangabeast01.com/manga/Boku-No-Hero-Academia/0263-013.png'], ['https://s6.mangabeast01.com/manga/Boku-No-Hero-Academia/0263-014.png'], ['https://s6.mangabeast01.com/manga/Boku-No-Hero-Academia/0263-015.png']], [264, 'Boku_no_Hero_Academia_-_Chapter_', ['https://w20.readheroacademia.com/wp-content/uploads/2018/01/mhamanga.jpg'], ['https://s6.mangabeast01.com/manga/Boku-No-Hero-Academia/0264-001.png'], ['https://s6.mangabeast01.com/manga/Boku-No-Hero-Academia/0264-002.png'], ['https://s6.mangabeast01.com/manga/Boku-No-Hero-Academia/0264-003.png'], ['https://s6.mangabeast01.com/manga/Boku-No-Hero-Academia/0264-004.png'], ['https://s6.mangabeast01.com/manga/Boku-No-Hero-Academia/0264-005.png'], ['https://s6.mangabeast01.com/manga/Boku-No-Hero-Academia/0264-006.png'], ['https://s6.mangabeast01.com/manga/Boku-No-Hero-Academia/0264-007.png'], ['https://s6.mangabeast01.com/manga/Boku-No-Hero-Academia/0264-008.png'], ['https://s6.mangabeast01.com/manga/Boku-No-Hero-Academia/0264-009.png'], ['https://s6.mangabeast01.com/manga/Boku-No-Hero-Academia/0264-010.png'], ['https://s6.mangabeast01.com/manga/Boku-No-Hero-Academia/0264-011.png'], ['https://s6.mangabeast01.com/manga/Boku-No-Hero-Academia/0264-012.png'], ['https://s6.mangabeast01.com/manga/Boku-No-Hero-Academia/0264-013.png'], ['https://s6.mangabeast01.com/manga/Boku-No-Hero-Academia/0264-014.png'], ['https://s6.mangabeast01.com/manga/Boku-No-Hero-Academia/0264-015.png'], ['https://s6.mangabeast01.com/manga/Boku-No-Hero-Academia/0264-016.png'], ['https://s6.mangabeast01.com/manga/Boku-No-Hero-Academia/0264-017.png']], [265, 'Boku_no_Hero_Academia_-_Chapter_', ['https://w20.readheroacademia.com/wp-content/uploads/2018/01/mhamanga.jpg'], ['https://s6.mangabeast01.com/manga/Boku-No-Hero-Academia/0265-001.png'], ['https://s6.mangabeast01.com/manga/Boku-No-Hero-Academia/0265-002.png'], ['https://s6.mangabeast01.com/manga/Boku-No-Hero-Academia/0265-003.png'], ['https://s6.mangabeast01.com/manga/Boku-No-Hero-Academia/0265-004.png'], ['https://s6.mangabeast01.com/manga/Boku-No-Hero-Academia/0265-005.png'], ['https://s6.mangabeast01.com/manga/Boku-No-Hero-Academia/0265-006.png'], ['https://s6.mangabeast01.com/manga/Boku-No-Hero-Academia/0265-007.png'], ['https://s6.mangabeast01.com/manga/Boku-No-Hero-Academia/0265-008.png'], ['https://s6.mangabeast01.com/manga/Boku-No-Hero-Academia/0265-009.png'], ['https://s6.mangabeast01.com/manga/Boku-No-Hero-Academia/0265-010.png'], ['https://s6.mangabeast01.com/manga/Boku-No-Hero-Academia/0265-011.png'], ['https://s6.mangabeast01.com/manga/Boku-No-Hero-Academia/0265-012.png'], ['https://s6.mangabeast01.com/manga/Boku-No-Hero-Academia/0265-013.png'], ['https://s6.mangabeast01.com/manga/Boku-No-Hero-Academia/0265-014.png'], ['https://s6.mangabeast01.com/manga/Boku-No-Hero-Academia/0265-015.png']], [266, 'Boku_no_Hero_Academia_-_Chapter_', ['https://w20.readheroacademia.com/wp-content/uploads/2018/01/mhamanga.jpg'], ['https://s6.mangabeast01.com/manga/Boku-No-Hero-Academia/0266-001.png'], ['https://s6.mangabeast01.com/manga/Boku-No-Hero-Academia/0266-002.png'], ['https://s6.mangabeast01.com/manga/Boku-No-Hero-Academia/0266-003.png'], ['https://s6.mangabeast01.com/manga/Boku-No-Hero-Academia/0266-004.png'], ['https://s6.mangabeast01.com/manga/Boku-No-Hero-Academia/0266-005.png'], ['https://s6.mangabeast01.com/manga/Boku-No-Hero-Academia/0266-006.png'], ['https://s6.mangabeast01.com/manga/Boku-No-Hero-Academia/0266-007.png'], ['https://s6.mangabeast01.com/manga/Boku-No-Hero-Academia/0266-008.png'], ['https://s6.mangabeast01.com/manga/Boku-No-Hero-Academia/0266-009.png'], ['https://s6.mangabeast01.com/manga/Boku-No-Hero-Academia/0266-010.png'], ['https://s6.mangabeast01.com/manga/Boku-No-Hero-Academia/0266-011.png'], ['https://s6.mangabeast01.com/manga/Boku-No-Hero-Academia/0266-012.png'], ['https://s6.mangabeast01.com/manga/Boku-No-Hero-Academia/0266-013.png'], ['https://s6.mangabeast01.com/manga/Boku-No-Hero-Academia/0266-014.png'], ['https://s6.mangabeast01.com/manga/Boku-No-Hero-Academia/0266-015.png'], ['https://s6.mangabeast01.com/manga/Boku-No-Hero-Academia/0266-016.png'], ['https://s6.mangabeast01.com/manga/Boku-No-Hero-Academia/0266-017.png'], ['https://s6.mangabeast01.com/manga/Boku-No-Hero-Academia/0266-018.png'], ['https://s6.mangabeast01.com/manga/Boku-No-Hero-Academia/0266-019.png']], [267, 'Boku_no_Hero_Academia_-_Chapter_', ['https://w20.readheroacademia.com/wp-content/uploads/2018/01/mhamanga.jpg'], ['https://s6.mangabeast01.com/manga/Boku-No-Hero-Academia/0267-001.png'], ['https://s6.mangabeast01.com/manga/Boku-No-Hero-Academia/0267-002.png'], ['https://s6.mangabeast01.com/manga/Boku-No-Hero-Academia/0267-003.png'], ['https://s6.mangabeast01.com/manga/Boku-No-Hero-Academia/0267-004.png'], ['https://s6.mangabeast01.com/manga/Boku-No-Hero-Academia/0267-005.png'], ['https://s6.mangabeast01.com/manga/Boku-No-Hero-Academia/0267-006.png'], ['https://s6.mangabeast01.com/manga/Boku-No-Hero-Academia/0267-007.png'], ['https://s6.mangabeast01.com/manga/Boku-No-Hero-Academia/0267-008.png'], ['https://s6.mangabeast01.com/manga/Boku-No-Hero-Academia/0267-009.png'], ['https://s6.mangabeast01.com/manga/Boku-No-Hero-Academia/0267-010.png'], ['https://s6.mangabeast01.com/manga/Boku-No-Hero-Academia/0267-011.png'], ['https://s6.mangabeast01.com/manga/Boku-No-Hero-Academia/0267-012.png'], ['https://s6.mangabeast01.com/manga/Boku-No-Hero-Academia/0267-013.png'], ['https://s6.mangabeast01.com/manga/Boku-No-Hero-Academia/0267-014.png'], ['https://s6.mangabeast01.com/manga/Boku-No-Hero-Academia/0267-015.png'], ['https://s6.mangabeast01.com/manga/Boku-No-Hero-Academia/0267-016.png'], ['https://s6.mangabeast01.com/manga/Boku-No-Hero-Academia/0267-017.png'], ['https://s6.mangabeast01.com/manga/Boku-No-Hero-Academia/0267-018.png'], ['https://s6.mangabeast01.com/manga/Boku-No-Hero-Academia/0267-019.png'], ['https://s6.mangabeast01.com/manga/Boku-No-Hero-Academia/0267-020.png'], ['https://s6.mangabeast01.com/manga/Boku-No-Hero-Academia/0267-021.png']], [268, 'Boku_no_Hero_Academia_-_Chapter_', ['https://w20.readheroacademia.com/wp-content/uploads/2018/01/mhamanga.jpg'], ['https://s6.mangabeast01.com/manga/Boku-No-Hero-Academia/0268-001.png'], ['https://s6.mangabeast01.com/manga/Boku-No-Hero-Academia/0268-002.png'], ['https://s6.mangabeast01.com/manga/Boku-No-Hero-Academia/0268-003.png'], ['https://s6.mangabeast01.com/manga/Boku-No-Hero-Academia/0268-004.png'], ['https://s6.mangabeast01.com/manga/Boku-No-Hero-Academia/0268-005.png'], ['https://s6.mangabeast01.com/manga/Boku-No-Hero-Academia/0268-006.png'], ['https://s6.mangabeast01.com/manga/Boku-No-Hero-Academia/0268-007.png'], ['https://s6.mangabeast01.com/manga/Boku-No-Hero-Academia/0268-008.png'], ['https://s6.mangabeast01.com/manga/Boku-No-Hero-Academia/0268-009.png'], ['https://s6.mangabeast01.com/manga/Boku-No-Hero-Academia/0268-010.png'], ['https://s6.mangabeast01.com/manga/Boku-No-Hero-Academia/0268-011.png'], ['https://s6.mangabeast01.com/manga/Boku-No-Hero-Academia/0268-012.png'], ['https://s6.mangabeast01.com/manga/Boku-No-Hero-Academia/0268-013.png'], ['https://s6.mangabeast01.com/manga/Boku-No-Hero-Academia/0268-014.png']], [269, 'Boku_no_Hero_Academia_-_Chapter_', ['https://w20.readheroacademia.com/wp-content/uploads/2018/01/mhamanga.jpg'], ['https://s6.mangabeast01.com/manga/Boku-No-Hero-Academia/0269-001.png'], ['https://s6.mangabeast01.com/manga/Boku-No-Hero-Academia/0269-002.png'], ['https://s6.mangabeast01.com/manga/Boku-No-Hero-Academia/0269-003.png'], ['https://s6.mangabeast01.com/manga/Boku-No-Hero-Academia/0269-004.png'], ['https://s6.mangabeast01.com/manga/Boku-No-Hero-Academia/0269-005.png'], ['https://s6.mangabeast01.com/manga/Boku-No-Hero-Academia/0269-006.png'], ['https://s6.mangabeast01.com/manga/Boku-No-Hero-Academia/0269-007.png'], ['https://s6.mangabeast01.com/manga/Boku-No-Hero-Academia/0269-008.png'], ['https://s6.mangabeast01.com/manga/Boku-No-Hero-Academia/0269-009.png'], ['https://s6.mangabeast01.com/manga/Boku-No-Hero-Academia/0269-010.png'], ['https://s6.mangabeast01.com/manga/Boku-No-Hero-Academia/0269-011.png'], ['https://s6.mangabeast01.com/manga/Boku-No-Hero-Academia/0269-012.png'], ['https://s6.mangabeast01.com/manga/Boku-No-Hero-Academia/0269-013.png'], ['https://s6.mangabeast01.com/manga/Boku-No-Hero-Academia/0269-014.png']], [270, 'Boku_no_Hero_Academia_-_Chapter_', ['https://w20.readheroacademia.com/wp-content/uploads/2018/01/mhamanga.jpg'], ['https://s6.mangabeast01.com/manga/Boku-No-Hero-Academia/0270-001.png'], ['https://s6.mangabeast01.com/manga/Boku-No-Hero-Academia/0270-002.png'], ['https://s6.mangabeast01.com/manga/Boku-No-Hero-Academia/0270-003.png'], ['https://s6.mangabeast01.com/manga/Boku-No-Hero-Academia/0270-004.png'], ['https://s6.mangabeast01.com/manga/Boku-No-Hero-Academia/0270-005.png'], ['https://s6.mangabeast01.com/manga/Boku-No-Hero-Academia/0270-006.png'], ['https://s6.mangabeast01.com/manga/Boku-No-Hero-Academia/0270-007.png'], ['https://s6.mangabeast01.com/manga/Boku-No-Hero-Academia/0270-008.png'], ['https://s6.mangabeast01.com/manga/Boku-No-Hero-Academia/0270-009.png'], ['https://s6.mangabeast01.com/manga/Boku-No-Hero-Academia/0270-010.png'], ['https://s6.mangabeast01.com/manga/Boku-No-Hero-Academia/0270-011.png'], ['https://s6.mangabeast01.com/manga/Boku-No-Hero-Academia/0270-012.png'], ['https://s6.mangabeast01.com/manga/Boku-No-Hero-Academia/0270-013.png'], ['https://s6.mangabeast01.com/manga/Boku-No-Hero-Academia/0270-014.png'], ['https://s6.mangabeast01.com/manga/Boku-No-Hero-Academia/0270-015.png'], ['https://s6.mangabeast01.com/manga/Boku-No-Hero-Academia/0270-016.png'], ['https://s6.mangabeast01.com/manga/Boku-No-Hero-Academia/0270-017.png'], ['https://s6.mangabeast01.com/manga/Boku-No-Hero-Academia/0270-018.png']], [271, 'Boku_no_Hero_Academia_-_Chapter_', ['https://w20.readheroacademia.com/wp-content/uploads/2018/01/mhamanga.jpg'], ['https://s6.mangabeast01.com/manga/Boku-No-Hero-Academia/0271-001.png'], ['https://s6.mangabeast01.com/manga/Boku-No-Hero-Academia/0271-002.png'], ['https://s6.mangabeast01.com/manga/Boku-No-Hero-Academia/0271-003.png'], ['https://s6.mangabeast01.com/manga/Boku-No-Hero-Academia/0271-004.png'], ['https://s6.mangabeast01.com/manga/Boku-No-Hero-Academia/0271-005.png'], ['https://s6.mangabeast01.com/manga/Boku-No-Hero-Academia/0271-006.png'], ['https://s6.mangabeast01.com/manga/Boku-No-Hero-Academia/0271-007.png'], ['https://s6.mangabeast01.com/manga/Boku-No-Hero-Academia/0271-008.png'], ['https://s6.mangabeast01.com/manga/Boku-No-Hero-Academia/0271-009.png'], ['https://s6.mangabeast01.com/manga/Boku-No-Hero-Academia/0271-010.png'], ['https://s6.mangabeast01.com/manga/Boku-No-Hero-Academia/0271-011.png'], ['https://s6.mangabeast01.com/manga/Boku-No-Hero-Academia/0271-012.png'], ['https://s6.mangabeast01.com/manga/Boku-No-Hero-Academia/0271-013.png'], ['https://s6.mangabeast01.com/manga/Boku-No-Hero-Academia/0271-014.png'], ['https://s6.mangabeast01.com/manga/Boku-No-Hero-Academia/0271-015.png'], ['https://s6.mangabeast01.com/manga/Boku-No-Hero-Academia/0271-016.png'], ['https://s6.mangabeast01.com/manga/Boku-No-Hero-Academia/0271-017.png']], [272, 'Boku_no_Hero_Academia_-_Chapter_', ['https://w20.readheroacademia.com/wp-content/uploads/2018/01/mhamanga.jpg'], ['https://cdn.imageart.online/file/CDN-M-A-N/BNHA272_1.jpg'], ['https://cdn.imageart.online/file/CDN-M-A-N/CREDITS.jpg'], ['https://cdn.imageart.online/file/CDN-M-A-N/BNHA272_2.jpg'], ['https://cdn.imageart.online/file/CDN-M-A-N/BNHA272_3.jpg'], ['https://cdn.imageart.online/file/CDN-M-A-N/BNHA272_4.jpg'], ['https://cdn.imageart.online/file/CDN-M-A-N/BNHA272_5_.jpg'], ['https://cdn.imageart.online/file/CDN-M-A-N/BNHA272_6.jpg'], ['https://cdn.imageart.online/file/CDN-M-A-N/BNHA272_7.jpg'], ['https://cdn.imageart.online/file/CDN-M-A-N/BNHA272_8.jpg'], ['https://cdn.imageart.online/file/CDN-M-A-N/BNHA272_9.jpg'], ['https://cdn.imageart.online/file/CDN-M-A-N/BNHA272_10.jpg'], ['https://cdn.imageart.online/file/CDN-M-A-N/BNHA272_11.jpg'], ['https://cdn.imageart.online/file/CDN-M-A-N/BNHA272_12.jpg'], ['https://cdn.imageart.online/file/CDN-M-A-N/BNHA272_13.jpg'], ['https://cdn.imageart.online/file/CDN-M-A-N/BNHA272_14.jpg'], ['https://cdn.imageart.online/file/CDN-M-A-N/BNHA272_15.jpg'], ['https://cdn.imageart.online/file/CDN-M-A-N/BNHA272_16.jpg'], ['https://cdn.imageart.online/file/CDN-M-A-N/BNHA272_17.jpg']], [273, 'Boku_no_Hero_Academia_-_Chapter_', ['https://w20.readheroacademia.com/wp-content/uploads/2018/01/mhamanga.jpg'], ['https://cdn.imageart.online/file/CDN-M-A-N/bnha_273_01.jpg'], ['https://cdn.imageart.online/file/CDN-M-A-N/CREDITS.jpg'], ['https://cdn.imageart.online/file/CDN-M-A-N/bnha_273_02.jpg'], ['https://cdn.imageart.online/file/CDN-M-A-N/bnha_273_03.jpg'], ['https://cdn.imageart.online/file/CDN-M-A-N/bnha_273_04.jpg'], ['https://cdn.imageart.online/file/CDN-M-A-N/bnha_273_05.jpg'], ['https://cdn.imageart.online/file/CDN-M-A-N/bnha_273_06.jpg'], ['https://cdn.imageart.online/file/CDN-M-A-N/bnha_273_07.jpg'], ['https://cdn.imageart.online/file/CDN-M-A-N/bnha_273_08.jpg'], ['https://cdn.imageart.online/file/CDN-M-A-N/bnha_273_09.jpg'], ['https://cdn.imageart.online/file/CDN-M-A-N/bnha_273_10.jpg'], ['https://cdn.imageart.online/file/CDN-M-A-N/bnha_273_11.jpg'], ['https://cdn.imageart.online/file/CDN-M-A-N/bnha_273_12.jpg'], ['https://cdn.imageart.online/file/CDN-M-A-N/bnha_273_13.jpg'], ['https://cdn.imageart.online/file/CDN-M-A-N/bnha_273_14.jpg'], ['https://cdn.imageart.online/file/CDN-M-A-N/bnha_273_15.jpg'], ['https://cdn.imageart.online/file/CDN-M-A-N/bnha_273_16.jpg']], [274, 'Boku_no_Hero_Academia_-_Chapter_', ['https://w20.readheroacademia.com/wp-content/uploads/2018/01/mhamanga.jpg'], ['https://cdn.imageart.online/file/CDN-M-A-N/bnha_274_01.jpg'], ['https://cdn.imageart.online/file/CDN-M-A-N/CREDITS.jpg'], ['https://cdn.imageart.online/file/CDN-M-A-N/bnha_274_02.jpg'], ['https://cdn.imageart.online/file/CDN-M-A-N/bnha_274_03.jpg'], ['https://cdn.imageart.online/file/CDN-M-A-N/bnha_274_04.jpg'], ['https://cdn.imageart.online/file/CDN-M-A-N/bnha_274_05.jpg'], ['https://cdn.imageart.online/file/CDN-M-A-N/bnha_274_06.jpg'], ['https://cdn.imageart.online/file/CDN-M-A-N/bnha_274_07.jpg'], ['https://cdn.imageart.online/file/CDN-M-A-N/bnha_274_08_.jpg'], ['https://cdn.imageart.online/file/CDN-M-A-N/bnha_274_09.jpg'], ['https://cdn.imageart.online/file/CDN-M-A-N/bnha_274_10.jpg'], ['https://cdn.imageart.online/file/CDN-M-A-N/bnha_274_11.jpg'], ['https://cdn.imageart.online/file/CDN-M-A-N/bnha_274_12.jpg'], ['https://cdn.imageart.online/file/CDN-M-A-N/bnha_274_13.jpg'], ['https://cdn.imageart.online/file/CDN-M-A-N/bnha_274_14.jpg'], ['https://cdn.imageart.online/file/CDN-M-A-N/bnha_274_15.jpg'], ['https://cdn.imageart.online/file/CDN-M-A-N/bnha_274_16_.jpg'], ['https://cdn.imageart.online/file/CDN-M-A-N/bnha_274_17.jpg']], [275, 'Boku_no_Hero_Academia_-_Chapter_', ['https://w20.readheroacademia.com/wp-content/uploads/2018/01/mhamanga.jpg'], ['https://cdn.imageart.online/file/CDN-M-A-N/RHA_275_001.jpg'], ['https://cdn.imageart.online/file/CDN-M-A-N/CREDITS.jpg'], ['https://cdn.imageart.online/file/CDN-M-A-N/RHA_275_002.jpg'], ['https://cdn.imageart.online/file/CDN-M-A-N/RHA_275_003.jpg'], ['https://cdn.imageart.online/file/CDN-M-A-N/RHA_275_004.png'], ['https://cdn.imageart.online/file/CDN-M-A-N/RHA_275_005.jpg'], ['https://cdn.imageart.online/file/CDN-M-A-N/RHA_275_006.jpg'], ['https://cdn.imageart.online/file/CDN-M-A-N/RHA_275_007.jpg'], ['https://cdn.imageart.online/file/CDN-M-A-N/RHA_275_008.jpg'], ['https://cdn.imageart.online/file/CDN-M-A-N/RHA_275_009.jpg'], ['https://cdn.imageart.online/file/CDN-M-A-N/RHA_275_010.jpg'], ['https://cdn.imageart.online/file/CDN-M-A-N/RHA_275_011.jpg'], ['https://cdn.imageart.online/file/CDN-M-A-N/RHA_275_012.jpg'], ['https://cdn.imageart.online/file/CDN-M-A-N/RHA_275_013.jpg'], ['https://cdn.imageart.online/file/CDN-M-A-N/RHA_275_014.jpg'], ['https://cdn.imageart.online/file/CDN-M-A-N/RHA_275015.jpg'], ['https://cdn.imageart.online/file/CDN-M-A-N/RHA_275016.jpg'], ['https://cdn.imageart.online/file/CDN-M-A-N/RHA_275017.jpg']], [276, 'Boku_no_Hero_Academia_-_Chapter_', ['https://w20.readheroacademia.com/wp-content/uploads/2018/01/mhamanga.jpg'], ['https://cdn.imageart.online/file/CDN-M-A-N/rha276_01.jpg'], ['https://cdn.imageart.online/file/CDN-M-A-N/CREDITS.jpg'], ['https://cdn.imageart.online/file/CDN-M-A-N/rha276_02.jpg'], ['https://cdn.imageart.online/file/CDN-M-A-N/rha276_03.jpg'], ['https://cdn.imageart.online/file/CDN-M-A-N/rha276_04.jpg'], ['https://cdn.imageart.online/file/CDN-M-A-N/rha276_05.jpg'], ['https://cdn.imageart.online/file/CDN-M-A-N/rha276_06.jpg'], ['https://cdn.imageart.online/file/CDN-M-A-N/rha276_07.jpg'], ['https://cdn.imageart.online/file/CDN-M-A-N/rha276_08.jpg'], ['https://cdn.imageart.online/file/CDN-M-A-N/rha276_09.jpg'], ['https://cdn.imageart.online/file/CDN-M-A-N/rha276_10.jpg'], ['https://cdn.imageart.online/file/CDN-M-A-N/rha276_11.jpg'], ['https://cdn.imageart.online/file/CDN-M-A-N/rha276_12.jpg'], ['https://cdn.imageart.online/file/CDN-M-A-N/rha276_13.jpg'], ['https://cdn.imageart.online/file/CDN-M-A-N/rha276_14.jpg'], ['https://cdn.imageart.online/file/CDN-M-A-N/rha276_15.jpg'], ['https://cdn.imageart.online/file/CDN-M-A-N/rha276_16.jpg'], ['https://cdn.imageart.online/file/CDN-M-A-N/rha276_17.jpg'], ['https://cdn.imageart.online/file/CDN-M-A-N/rha276_18.jpg']], [277, 'Boku_no_Hero_Academia_-_Chapter_', ['https://w20.readheroacademia.com/wp-content/uploads/2018/01/mhamanga.jpg'], ['https://cdn.imageart.online/file/CDN-M-A-N/mha277_1.jpg'], ['https://cdn.imageart.online/file/CDN-M-A-N/CREDITS.jpg'], ['https://cdn.imageart.online/file/CDN-M-A-N/mha277_02.jpg'], ['https://cdn.imageart.online/file/CDN-M-A-N/mha277_3.jpg'], ['https://cdn.imageart.online/file/CDN-M-A-N/mha277_4.jpg'], ['https://cdn.imageart.online/file/CDN-M-A-N/mha277_5.jpg'], ['https://cdn.imageart.online/file/CDN-M-A-N/mha277_6.jpg'], ['https://cdn.imageart.online/file/CDN-M-A-N/mha277_7.jpg'], ['https://cdn.imageart.online/file/CDN-M-A-N/mha277_8.jpg'], ['https://cdn.imageart.online/file/CDN-M-A-N/mha277_9.jpg'], ['https://cdn.imageart.online/file/CDN-M-A-N/mha277_10.jpg'], ['https://cdn.imageart.online/file/CDN-M-A-N/mha277_11.jpg'], ['https://cdn.imageart.online/file/CDN-M-A-N/mha277_12.jpg'], ['https://cdn.imageart.online/file/CDN-M-A-N/mha277_13.jpg'], ['https://cdn.imageart.online/file/CDN-M-A-N/mha277_14.jpg'], ['https://cdn.imageart.online/file/CDN-M-A-N/mha277_15.jpg'], ['https://cdn.imageart.online/file/CDN-M-A-N/mha277_16.jpg'], ['https://cdn.imageart.online/file/CDN-M-A-N/mha277_17.jpg']], [278, 'Boku_no_Hero_Academia_-_Chapter_', ['https://w20.readheroacademia.com/wp-content/uploads/2018/01/mhamanga.jpg'], ['https://cdn.imageart.online/file/CDN-M-A-N/bnha278_01.jpg'], ['https://cdn.imageart.online/file/CDN-M-A-N/CREDITS.jpg'], ['https://cdn.imageart.online/file/CDN-M-A-N/bnha278_02.jpg'], ['https://cdn.imageart.online/file/CDN-M-A-N/bnha278_03.jpg'], ['https://cdn.imageart.online/file/CDN-M-A-N/bnha278_04.jpg'], ['https://cdn.imageart.online/file/CDN-M-A-N/bnha278_05.jpg'], ['https://cdn.imageart.online/file/CDN-M-A-N/bnha278_06.jpg'], ['https://cdn.imageart.online/file/CDN-M-A-N/bnha278_07.jpg'], ['https://cdn.imageart.online/file/CDN-M-A-N/bnha278_08.jpg'], ['https://cdn.imageart.online/file/CDN-M-A-N/bnha278_09.jpg'], ['https://cdn.imageart.online/file/CDN-M-A-N/bnha278_10.jpg'], ['https://cdn.imageart.online/file/CDN-M-A-N/bnha278_11.jpg'], ['https://cdn.imageart.online/file/CDN-M-A-N/bnha278_12.jpg'], ['https://cdn.imageart.online/file/CDN-M-A-N/bnha278_13.jpg'], ['https://cdn.imageart.online/file/CDN-M-A-N/bnha278_14.jpg'], ['https://cdn.imageart.online/file/CDN-M-A-N/bnha278_15.jpg'], ['https://cdn.imageart.online/file/CDN-M-A-N/bnha278_16.jpg'], ['https://cdn.imageart.online/file/CDN-M-A-N/bnha278_17.jpg']], [279, 'Boku_no_Hero_Academia_-_Chapter_', ['https://w20.readheroacademia.com/wp-content/uploads/2018/01/mhamanga.jpg'], ['https://cdn.imageart.online/file/CDN-M-A-N/mha279_01.jpg'], ['https://cdn.imageart.online/file/CDN-M-A-N/CREDITS.jpg'], ['https://cdn.imageart.online/file/CDN-M-A-N/mha279_02.jpg'], ['https://cdn.imageart.online/file/CDN-M-A-N/mha279_03.jpg'], ['https://cdn.imageart.online/file/CDN-M-A-N/mha279_04.jpg'], ['https://cdn.imageart.online/file/CDN-M-A-N/mha279_05.jpg'], ['https://cdn.imageart.online/file/CDN-M-A-N/mha279_06.jpg'], ['https://cdn.imageart.online/file/CDN-M-A-N/mha279_07.jpg'], ['https://cdn.imageart.online/file/CDN-M-A-N/mha279_08.jpg'], ['https://cdn.imageart.online/file/CDN-M-A-N/mha279_09.jpg'], ['https://cdn.imageart.online/file/CDN-M-A-N/mha279_10.jpg'], ['https://cdn.imageart.online/file/CDN-M-A-N/mha279_11.jpg'], ['https://cdn.imageart.online/file/CDN-M-A-N/mha279_12.jpg'], ['https://cdn.imageart.online/file/CDN-M-A-N/mha279_13.jpg'], ['https://cdn.imageart.online/file/CDN-M-A-N/mha279_14.jpg'], ['https://cdn.imageart.online/file/CDN-M-A-N/mha279_15.jpg'], ['https://cdn.imageart.online/file/CDN-M-A-N/mha279_16.jpg'], ['https://cdn.imageart.online/file/CDN-M-A-N/mha279_17.jpg']], [280, 'Boku_no_Hero_Academia_-_Chapter_', ['https://w20.readheroacademia.com/wp-content/uploads/2018/01/mhamanga.jpg'], ['https://cdn.imageart.online/file/CDN-M-A-N/bnha_280_01.jpg'], ['https://cdn.imageart.online/file/CDN-M-A-N/CREDITS.jpg'], ['https://cdn.imageart.online/file/CDN-M-A-N/bnha_280_02.jpg'], ['https://cdn.imageart.online/file/CDN-M-A-N/bnha_280_03.jpg'], ['https://cdn.imageart.online/file/CDN-M-A-N/bnha_280_04.jpg'], ['https://cdn.imageart.online/file/CDN-M-A-N/bnha_280_05.jpg'], ['https://cdn.imageart.online/file/CDN-M-A-N/bnha_280_06.jpg'], ['https://cdn.imageart.online/file/CDN-M-A-N/bnha_280_07.jpg'], ['https://cdn.imageart.online/file/CDN-M-A-N/bnha_280_08.jpg'], ['https://cdn.imageart.online/file/CDN-M-A-N/bnha_280_09.jpg'], ['https://cdn.imageart.online/file/CDN-M-A-N/bnha_280_10.jpg'], ['https://cdn.imageart.online/file/CDN-M-A-N/bnha_280_11.jpg'], ['https://cdn.imageart.online/file/CDN-M-A-N/bnha_280_12.jpg'], ['https://cdn.imageart.online/file/CDN-M-A-N/bnha_280_13.jpg'], ['https://cdn.imageart.online/file/CDN-M-A-N/bnha_280_14.jpg'], ['https://cdn.imageart.online/file/CDN-M-A-N/bnha_280_15.jpg'], ['https://cdn.imageart.online/file/CDN-M-A-N/bnha_280_16.jpg'], ['https://cdn.imageart.online/file/CDN-M-A-N/bnha_280_17.jpg'], ['https://cdn.imageart.online/file/CDN-M-A-N/bnha_280_18.jpg']]]\n",
            "/content/One_Piece_-_Chapter_995_-_\n",
            "Regex didn't match with the url: https://cdn.imageart.online/file/CDN-M-A-N/995+Page+0.png\n",
            "Regex didn't match with the url: https://cdn.imageart.online/file/CDN-M-A-N/995+Page+1.png\n",
            "Regex didn't match with the url: https://cdn.imageart.online/file/CDN-M-A-N/995+Page+2.png\n",
            "Regex didn't match with the url: https://cdn.imageart.online/file/CDN-M-A-N/995+Page+7.png\n",
            "Regex didn't match with the url: https://cdn.imageart.online/file/CDN-M-A-N/995+Page+8.png\n",
            "Regex didn't match with the url: https://cdn.imageart.online/file/CDN-M-A-N/995+Page+9.png\n",
            "Regex didn't match with the url: https://cdn.imageart.online/file/CDN-M-A-N/995+Page+10.png\n",
            "Regex didn't match with the url: https://cdn.imageart.online/file/CDN-M-A-N/995+Page+12v2.png\n"
          ],
          "name": "stdout"
        },
        {
          "output_type": "display_data",
          "data": {
            "application/javascript": [
              "\n",
              "    async function download(id, filename, size) {\n",
              "      if (!google.colab.kernel.accessAllowed) {\n",
              "        return;\n",
              "      }\n",
              "      const div = document.createElement('div');\n",
              "      const label = document.createElement('label');\n",
              "      label.textContent = `Downloading \"${filename}\": `;\n",
              "      div.appendChild(label);\n",
              "      const progress = document.createElement('progress');\n",
              "      progress.max = size;\n",
              "      div.appendChild(progress);\n",
              "      document.body.appendChild(div);\n",
              "\n",
              "      const buffers = [];\n",
              "      let downloaded = 0;\n",
              "\n",
              "      const channel = await google.colab.kernel.comms.open(id);\n",
              "      // Send a message to notify the kernel that we're ready.\n",
              "      channel.send({})\n",
              "\n",
              "      for await (const message of channel.messages) {\n",
              "        // Send a message to notify the kernel that we're ready.\n",
              "        channel.send({})\n",
              "        if (message.buffers) {\n",
              "          for (const buffer of message.buffers) {\n",
              "            buffers.push(buffer);\n",
              "            downloaded += buffer.byteLength;\n",
              "            progress.value = downloaded;\n",
              "          }\n",
              "        }\n",
              "      }\n",
              "      const blob = new Blob(buffers, {type: 'application/binary'});\n",
              "      const a = document.createElement('a');\n",
              "      a.href = window.URL.createObjectURL(blob);\n",
              "      a.download = filename;\n",
              "      div.appendChild(a);\n",
              "      a.click();\n",
              "      div.remove();\n",
              "    }\n",
              "  "
            ],
            "text/plain": [
              "<IPython.core.display.Javascript object>"
            ]
          },
          "metadata": {
            "tags": []
          }
        },
        {
          "output_type": "display_data",
          "data": {
            "application/javascript": [
              "download(\"download_5084447d-b988-4a99-b9e2-8fb34dfa09a5\", \"One_Piece_-_Chapter_995_-_.zip\", 9025881)"
            ],
            "text/plain": [
              "<IPython.core.display.Javascript object>"
            ]
          },
          "metadata": {
            "tags": []
          }
        },
        {
          "output_type": "stream",
          "text": [
            "/content/One_Piece_-_Chapter_996_-_\n"
          ],
          "name": "stdout"
        },
        {
          "output_type": "display_data",
          "data": {
            "application/javascript": [
              "\n",
              "    async function download(id, filename, size) {\n",
              "      if (!google.colab.kernel.accessAllowed) {\n",
              "        return;\n",
              "      }\n",
              "      const div = document.createElement('div');\n",
              "      const label = document.createElement('label');\n",
              "      label.textContent = `Downloading \"${filename}\": `;\n",
              "      div.appendChild(label);\n",
              "      const progress = document.createElement('progress');\n",
              "      progress.max = size;\n",
              "      div.appendChild(progress);\n",
              "      document.body.appendChild(div);\n",
              "\n",
              "      const buffers = [];\n",
              "      let downloaded = 0;\n",
              "\n",
              "      const channel = await google.colab.kernel.comms.open(id);\n",
              "      // Send a message to notify the kernel that we're ready.\n",
              "      channel.send({})\n",
              "\n",
              "      for await (const message of channel.messages) {\n",
              "        // Send a message to notify the kernel that we're ready.\n",
              "        channel.send({})\n",
              "        if (message.buffers) {\n",
              "          for (const buffer of message.buffers) {\n",
              "            buffers.push(buffer);\n",
              "            downloaded += buffer.byteLength;\n",
              "            progress.value = downloaded;\n",
              "          }\n",
              "        }\n",
              "      }\n",
              "      const blob = new Blob(buffers, {type: 'application/binary'});\n",
              "      const a = document.createElement('a');\n",
              "      a.href = window.URL.createObjectURL(blob);\n",
              "      a.download = filename;\n",
              "      div.appendChild(a);\n",
              "      a.click();\n",
              "      div.remove();\n",
              "    }\n",
              "  "
            ],
            "text/plain": [
              "<IPython.core.display.Javascript object>"
            ]
          },
          "metadata": {
            "tags": []
          }
        },
        {
          "output_type": "display_data",
          "data": {
            "application/javascript": [
              "download(\"download_08dc0a8b-d9c1-4ee6-89ce-e50c1d74ae9e\", \"One_Piece_-_Chapter_996_-_.zip\", 14984474)"
            ],
            "text/plain": [
              "<IPython.core.display.Javascript object>"
            ]
          },
          "metadata": {
            "tags": []
          }
        },
        {
          "output_type": "stream",
          "text": [
            "/content/Boku_no_Hero_Academia_-_Chapter_260_-_\n"
          ],
          "name": "stdout"
        },
        {
          "output_type": "display_data",
          "data": {
            "application/javascript": [
              "\n",
              "    async function download(id, filename, size) {\n",
              "      if (!google.colab.kernel.accessAllowed) {\n",
              "        return;\n",
              "      }\n",
              "      const div = document.createElement('div');\n",
              "      const label = document.createElement('label');\n",
              "      label.textContent = `Downloading \"${filename}\": `;\n",
              "      div.appendChild(label);\n",
              "      const progress = document.createElement('progress');\n",
              "      progress.max = size;\n",
              "      div.appendChild(progress);\n",
              "      document.body.appendChild(div);\n",
              "\n",
              "      const buffers = [];\n",
              "      let downloaded = 0;\n",
              "\n",
              "      const channel = await google.colab.kernel.comms.open(id);\n",
              "      // Send a message to notify the kernel that we're ready.\n",
              "      channel.send({})\n",
              "\n",
              "      for await (const message of channel.messages) {\n",
              "        // Send a message to notify the kernel that we're ready.\n",
              "        channel.send({})\n",
              "        if (message.buffers) {\n",
              "          for (const buffer of message.buffers) {\n",
              "            buffers.push(buffer);\n",
              "            downloaded += buffer.byteLength;\n",
              "            progress.value = downloaded;\n",
              "          }\n",
              "        }\n",
              "      }\n",
              "      const blob = new Blob(buffers, {type: 'application/binary'});\n",
              "      const a = document.createElement('a');\n",
              "      a.href = window.URL.createObjectURL(blob);\n",
              "      a.download = filename;\n",
              "      div.appendChild(a);\n",
              "      a.click();\n",
              "      div.remove();\n",
              "    }\n",
              "  "
            ],
            "text/plain": [
              "<IPython.core.display.Javascript object>"
            ]
          },
          "metadata": {
            "tags": []
          }
        },
        {
          "output_type": "display_data",
          "data": {
            "application/javascript": [
              "download(\"download_61eaf196-c010-4944-a7ca-09399f2d7561\", \"Boku_no_Hero_Academia_-_Chapter_260_-_.zip\", 3404512)"
            ],
            "text/plain": [
              "<IPython.core.display.Javascript object>"
            ]
          },
          "metadata": {
            "tags": []
          }
        },
        {
          "output_type": "stream",
          "text": [
            "/content/Boku_no_Hero_Academia_-_Chapter_261_-_\n"
          ],
          "name": "stdout"
        },
        {
          "output_type": "display_data",
          "data": {
            "application/javascript": [
              "\n",
              "    async function download(id, filename, size) {\n",
              "      if (!google.colab.kernel.accessAllowed) {\n",
              "        return;\n",
              "      }\n",
              "      const div = document.createElement('div');\n",
              "      const label = document.createElement('label');\n",
              "      label.textContent = `Downloading \"${filename}\": `;\n",
              "      div.appendChild(label);\n",
              "      const progress = document.createElement('progress');\n",
              "      progress.max = size;\n",
              "      div.appendChild(progress);\n",
              "      document.body.appendChild(div);\n",
              "\n",
              "      const buffers = [];\n",
              "      let downloaded = 0;\n",
              "\n",
              "      const channel = await google.colab.kernel.comms.open(id);\n",
              "      // Send a message to notify the kernel that we're ready.\n",
              "      channel.send({})\n",
              "\n",
              "      for await (const message of channel.messages) {\n",
              "        // Send a message to notify the kernel that we're ready.\n",
              "        channel.send({})\n",
              "        if (message.buffers) {\n",
              "          for (const buffer of message.buffers) {\n",
              "            buffers.push(buffer);\n",
              "            downloaded += buffer.byteLength;\n",
              "            progress.value = downloaded;\n",
              "          }\n",
              "        }\n",
              "      }\n",
              "      const blob = new Blob(buffers, {type: 'application/binary'});\n",
              "      const a = document.createElement('a');\n",
              "      a.href = window.URL.createObjectURL(blob);\n",
              "      a.download = filename;\n",
              "      div.appendChild(a);\n",
              "      a.click();\n",
              "      div.remove();\n",
              "    }\n",
              "  "
            ],
            "text/plain": [
              "<IPython.core.display.Javascript object>"
            ]
          },
          "metadata": {
            "tags": []
          }
        },
        {
          "output_type": "display_data",
          "data": {
            "application/javascript": [
              "download(\"download_a9f6924d-4afe-47b3-b8fa-55812276b9f0\", \"Boku_no_Hero_Academia_-_Chapter_261_-_.zip\", 2622404)"
            ],
            "text/plain": [
              "<IPython.core.display.Javascript object>"
            ]
          },
          "metadata": {
            "tags": []
          }
        },
        {
          "output_type": "stream",
          "text": [
            "/content/Boku_no_Hero_Academia_-_Chapter_262_-_\n"
          ],
          "name": "stdout"
        },
        {
          "output_type": "display_data",
          "data": {
            "application/javascript": [
              "\n",
              "    async function download(id, filename, size) {\n",
              "      if (!google.colab.kernel.accessAllowed) {\n",
              "        return;\n",
              "      }\n",
              "      const div = document.createElement('div');\n",
              "      const label = document.createElement('label');\n",
              "      label.textContent = `Downloading \"${filename}\": `;\n",
              "      div.appendChild(label);\n",
              "      const progress = document.createElement('progress');\n",
              "      progress.max = size;\n",
              "      div.appendChild(progress);\n",
              "      document.body.appendChild(div);\n",
              "\n",
              "      const buffers = [];\n",
              "      let downloaded = 0;\n",
              "\n",
              "      const channel = await google.colab.kernel.comms.open(id);\n",
              "      // Send a message to notify the kernel that we're ready.\n",
              "      channel.send({})\n",
              "\n",
              "      for await (const message of channel.messages) {\n",
              "        // Send a message to notify the kernel that we're ready.\n",
              "        channel.send({})\n",
              "        if (message.buffers) {\n",
              "          for (const buffer of message.buffers) {\n",
              "            buffers.push(buffer);\n",
              "            downloaded += buffer.byteLength;\n",
              "            progress.value = downloaded;\n",
              "          }\n",
              "        }\n",
              "      }\n",
              "      const blob = new Blob(buffers, {type: 'application/binary'});\n",
              "      const a = document.createElement('a');\n",
              "      a.href = window.URL.createObjectURL(blob);\n",
              "      a.download = filename;\n",
              "      div.appendChild(a);\n",
              "      a.click();\n",
              "      div.remove();\n",
              "    }\n",
              "  "
            ],
            "text/plain": [
              "<IPython.core.display.Javascript object>"
            ]
          },
          "metadata": {
            "tags": []
          }
        },
        {
          "output_type": "display_data",
          "data": {
            "application/javascript": [
              "download(\"download_f99eee32-0c0e-4faa-9c07-96480d978d24\", \"Boku_no_Hero_Academia_-_Chapter_262_-_.zip\", 3440790)"
            ],
            "text/plain": [
              "<IPython.core.display.Javascript object>"
            ]
          },
          "metadata": {
            "tags": []
          }
        },
        {
          "output_type": "stream",
          "text": [
            "/content/Boku_no_Hero_Academia_-_Chapter_263_-_\n"
          ],
          "name": "stdout"
        },
        {
          "output_type": "display_data",
          "data": {
            "application/javascript": [
              "\n",
              "    async function download(id, filename, size) {\n",
              "      if (!google.colab.kernel.accessAllowed) {\n",
              "        return;\n",
              "      }\n",
              "      const div = document.createElement('div');\n",
              "      const label = document.createElement('label');\n",
              "      label.textContent = `Downloading \"${filename}\": `;\n",
              "      div.appendChild(label);\n",
              "      const progress = document.createElement('progress');\n",
              "      progress.max = size;\n",
              "      div.appendChild(progress);\n",
              "      document.body.appendChild(div);\n",
              "\n",
              "      const buffers = [];\n",
              "      let downloaded = 0;\n",
              "\n",
              "      const channel = await google.colab.kernel.comms.open(id);\n",
              "      // Send a message to notify the kernel that we're ready.\n",
              "      channel.send({})\n",
              "\n",
              "      for await (const message of channel.messages) {\n",
              "        // Send a message to notify the kernel that we're ready.\n",
              "        channel.send({})\n",
              "        if (message.buffers) {\n",
              "          for (const buffer of message.buffers) {\n",
              "            buffers.push(buffer);\n",
              "            downloaded += buffer.byteLength;\n",
              "            progress.value = downloaded;\n",
              "          }\n",
              "        }\n",
              "      }\n",
              "      const blob = new Blob(buffers, {type: 'application/binary'});\n",
              "      const a = document.createElement('a');\n",
              "      a.href = window.URL.createObjectURL(blob);\n",
              "      a.download = filename;\n",
              "      div.appendChild(a);\n",
              "      a.click();\n",
              "      div.remove();\n",
              "    }\n",
              "  "
            ],
            "text/plain": [
              "<IPython.core.display.Javascript object>"
            ]
          },
          "metadata": {
            "tags": []
          }
        },
        {
          "output_type": "display_data",
          "data": {
            "application/javascript": [
              "download(\"download_b1a017ea-15ea-44e8-b298-798e87edb792\", \"Boku_no_Hero_Academia_-_Chapter_263_-_.zip\", 3429584)"
            ],
            "text/plain": [
              "<IPython.core.display.Javascript object>"
            ]
          },
          "metadata": {
            "tags": []
          }
        },
        {
          "output_type": "stream",
          "text": [
            "/content/Boku_no_Hero_Academia_-_Chapter_264_-_\n"
          ],
          "name": "stdout"
        },
        {
          "output_type": "display_data",
          "data": {
            "application/javascript": [
              "\n",
              "    async function download(id, filename, size) {\n",
              "      if (!google.colab.kernel.accessAllowed) {\n",
              "        return;\n",
              "      }\n",
              "      const div = document.createElement('div');\n",
              "      const label = document.createElement('label');\n",
              "      label.textContent = `Downloading \"${filename}\": `;\n",
              "      div.appendChild(label);\n",
              "      const progress = document.createElement('progress');\n",
              "      progress.max = size;\n",
              "      div.appendChild(progress);\n",
              "      document.body.appendChild(div);\n",
              "\n",
              "      const buffers = [];\n",
              "      let downloaded = 0;\n",
              "\n",
              "      const channel = await google.colab.kernel.comms.open(id);\n",
              "      // Send a message to notify the kernel that we're ready.\n",
              "      channel.send({})\n",
              "\n",
              "      for await (const message of channel.messages) {\n",
              "        // Send a message to notify the kernel that we're ready.\n",
              "        channel.send({})\n",
              "        if (message.buffers) {\n",
              "          for (const buffer of message.buffers) {\n",
              "            buffers.push(buffer);\n",
              "            downloaded += buffer.byteLength;\n",
              "            progress.value = downloaded;\n",
              "          }\n",
              "        }\n",
              "      }\n",
              "      const blob = new Blob(buffers, {type: 'application/binary'});\n",
              "      const a = document.createElement('a');\n",
              "      a.href = window.URL.createObjectURL(blob);\n",
              "      a.download = filename;\n",
              "      div.appendChild(a);\n",
              "      a.click();\n",
              "      div.remove();\n",
              "    }\n",
              "  "
            ],
            "text/plain": [
              "<IPython.core.display.Javascript object>"
            ]
          },
          "metadata": {
            "tags": []
          }
        },
        {
          "output_type": "display_data",
          "data": {
            "application/javascript": [
              "download(\"download_19643628-1ac5-4455-b81d-60e2dc153e48\", \"Boku_no_Hero_Academia_-_Chapter_264_-_.zip\", 3238642)"
            ],
            "text/plain": [
              "<IPython.core.display.Javascript object>"
            ]
          },
          "metadata": {
            "tags": []
          }
        },
        {
          "output_type": "stream",
          "text": [
            "/content/Boku_no_Hero_Academia_-_Chapter_265_-_\n"
          ],
          "name": "stdout"
        },
        {
          "output_type": "display_data",
          "data": {
            "application/javascript": [
              "\n",
              "    async function download(id, filename, size) {\n",
              "      if (!google.colab.kernel.accessAllowed) {\n",
              "        return;\n",
              "      }\n",
              "      const div = document.createElement('div');\n",
              "      const label = document.createElement('label');\n",
              "      label.textContent = `Downloading \"${filename}\": `;\n",
              "      div.appendChild(label);\n",
              "      const progress = document.createElement('progress');\n",
              "      progress.max = size;\n",
              "      div.appendChild(progress);\n",
              "      document.body.appendChild(div);\n",
              "\n",
              "      const buffers = [];\n",
              "      let downloaded = 0;\n",
              "\n",
              "      const channel = await google.colab.kernel.comms.open(id);\n",
              "      // Send a message to notify the kernel that we're ready.\n",
              "      channel.send({})\n",
              "\n",
              "      for await (const message of channel.messages) {\n",
              "        // Send a message to notify the kernel that we're ready.\n",
              "        channel.send({})\n",
              "        if (message.buffers) {\n",
              "          for (const buffer of message.buffers) {\n",
              "            buffers.push(buffer);\n",
              "            downloaded += buffer.byteLength;\n",
              "            progress.value = downloaded;\n",
              "          }\n",
              "        }\n",
              "      }\n",
              "      const blob = new Blob(buffers, {type: 'application/binary'});\n",
              "      const a = document.createElement('a');\n",
              "      a.href = window.URL.createObjectURL(blob);\n",
              "      a.download = filename;\n",
              "      div.appendChild(a);\n",
              "      a.click();\n",
              "      div.remove();\n",
              "    }\n",
              "  "
            ],
            "text/plain": [
              "<IPython.core.display.Javascript object>"
            ]
          },
          "metadata": {
            "tags": []
          }
        },
        {
          "output_type": "display_data",
          "data": {
            "application/javascript": [
              "download(\"download_2a9dd224-6e08-4cee-a089-31be9def2652\", \"Boku_no_Hero_Academia_-_Chapter_265_-_.zip\", 3358139)"
            ],
            "text/plain": [
              "<IPython.core.display.Javascript object>"
            ]
          },
          "metadata": {
            "tags": []
          }
        },
        {
          "output_type": "stream",
          "text": [
            "/content/Boku_no_Hero_Academia_-_Chapter_266_-_\n"
          ],
          "name": "stdout"
        },
        {
          "output_type": "display_data",
          "data": {
            "application/javascript": [
              "\n",
              "    async function download(id, filename, size) {\n",
              "      if (!google.colab.kernel.accessAllowed) {\n",
              "        return;\n",
              "      }\n",
              "      const div = document.createElement('div');\n",
              "      const label = document.createElement('label');\n",
              "      label.textContent = `Downloading \"${filename}\": `;\n",
              "      div.appendChild(label);\n",
              "      const progress = document.createElement('progress');\n",
              "      progress.max = size;\n",
              "      div.appendChild(progress);\n",
              "      document.body.appendChild(div);\n",
              "\n",
              "      const buffers = [];\n",
              "      let downloaded = 0;\n",
              "\n",
              "      const channel = await google.colab.kernel.comms.open(id);\n",
              "      // Send a message to notify the kernel that we're ready.\n",
              "      channel.send({})\n",
              "\n",
              "      for await (const message of channel.messages) {\n",
              "        // Send a message to notify the kernel that we're ready.\n",
              "        channel.send({})\n",
              "        if (message.buffers) {\n",
              "          for (const buffer of message.buffers) {\n",
              "            buffers.push(buffer);\n",
              "            downloaded += buffer.byteLength;\n",
              "            progress.value = downloaded;\n",
              "          }\n",
              "        }\n",
              "      }\n",
              "      const blob = new Blob(buffers, {type: 'application/binary'});\n",
              "      const a = document.createElement('a');\n",
              "      a.href = window.URL.createObjectURL(blob);\n",
              "      a.download = filename;\n",
              "      div.appendChild(a);\n",
              "      a.click();\n",
              "      div.remove();\n",
              "    }\n",
              "  "
            ],
            "text/plain": [
              "<IPython.core.display.Javascript object>"
            ]
          },
          "metadata": {
            "tags": []
          }
        },
        {
          "output_type": "display_data",
          "data": {
            "application/javascript": [
              "download(\"download_0f5c91ae-3daa-448b-b060-4d4c8ef14568\", \"Boku_no_Hero_Academia_-_Chapter_266_-_.zip\", 2934318)"
            ],
            "text/plain": [
              "<IPython.core.display.Javascript object>"
            ]
          },
          "metadata": {
            "tags": []
          }
        },
        {
          "output_type": "stream",
          "text": [
            "/content/Boku_no_Hero_Academia_-_Chapter_267_-_\n"
          ],
          "name": "stdout"
        },
        {
          "output_type": "display_data",
          "data": {
            "application/javascript": [
              "\n",
              "    async function download(id, filename, size) {\n",
              "      if (!google.colab.kernel.accessAllowed) {\n",
              "        return;\n",
              "      }\n",
              "      const div = document.createElement('div');\n",
              "      const label = document.createElement('label');\n",
              "      label.textContent = `Downloading \"${filename}\": `;\n",
              "      div.appendChild(label);\n",
              "      const progress = document.createElement('progress');\n",
              "      progress.max = size;\n",
              "      div.appendChild(progress);\n",
              "      document.body.appendChild(div);\n",
              "\n",
              "      const buffers = [];\n",
              "      let downloaded = 0;\n",
              "\n",
              "      const channel = await google.colab.kernel.comms.open(id);\n",
              "      // Send a message to notify the kernel that we're ready.\n",
              "      channel.send({})\n",
              "\n",
              "      for await (const message of channel.messages) {\n",
              "        // Send a message to notify the kernel that we're ready.\n",
              "        channel.send({})\n",
              "        if (message.buffers) {\n",
              "          for (const buffer of message.buffers) {\n",
              "            buffers.push(buffer);\n",
              "            downloaded += buffer.byteLength;\n",
              "            progress.value = downloaded;\n",
              "          }\n",
              "        }\n",
              "      }\n",
              "      const blob = new Blob(buffers, {type: 'application/binary'});\n",
              "      const a = document.createElement('a');\n",
              "      a.href = window.URL.createObjectURL(blob);\n",
              "      a.download = filename;\n",
              "      div.appendChild(a);\n",
              "      a.click();\n",
              "      div.remove();\n",
              "    }\n",
              "  "
            ],
            "text/plain": [
              "<IPython.core.display.Javascript object>"
            ]
          },
          "metadata": {
            "tags": []
          }
        },
        {
          "output_type": "display_data",
          "data": {
            "application/javascript": [
              "download(\"download_e26d322e-ac3c-4eda-bb2a-426ecc49bf5d\", \"Boku_no_Hero_Academia_-_Chapter_267_-_.zip\", 3224981)"
            ],
            "text/plain": [
              "<IPython.core.display.Javascript object>"
            ]
          },
          "metadata": {
            "tags": []
          }
        },
        {
          "output_type": "stream",
          "text": [
            "/content/Boku_no_Hero_Academia_-_Chapter_268_-_\n"
          ],
          "name": "stdout"
        },
        {
          "output_type": "display_data",
          "data": {
            "application/javascript": [
              "\n",
              "    async function download(id, filename, size) {\n",
              "      if (!google.colab.kernel.accessAllowed) {\n",
              "        return;\n",
              "      }\n",
              "      const div = document.createElement('div');\n",
              "      const label = document.createElement('label');\n",
              "      label.textContent = `Downloading \"${filename}\": `;\n",
              "      div.appendChild(label);\n",
              "      const progress = document.createElement('progress');\n",
              "      progress.max = size;\n",
              "      div.appendChild(progress);\n",
              "      document.body.appendChild(div);\n",
              "\n",
              "      const buffers = [];\n",
              "      let downloaded = 0;\n",
              "\n",
              "      const channel = await google.colab.kernel.comms.open(id);\n",
              "      // Send a message to notify the kernel that we're ready.\n",
              "      channel.send({})\n",
              "\n",
              "      for await (const message of channel.messages) {\n",
              "        // Send a message to notify the kernel that we're ready.\n",
              "        channel.send({})\n",
              "        if (message.buffers) {\n",
              "          for (const buffer of message.buffers) {\n",
              "            buffers.push(buffer);\n",
              "            downloaded += buffer.byteLength;\n",
              "            progress.value = downloaded;\n",
              "          }\n",
              "        }\n",
              "      }\n",
              "      const blob = new Blob(buffers, {type: 'application/binary'});\n",
              "      const a = document.createElement('a');\n",
              "      a.href = window.URL.createObjectURL(blob);\n",
              "      a.download = filename;\n",
              "      div.appendChild(a);\n",
              "      a.click();\n",
              "      div.remove();\n",
              "    }\n",
              "  "
            ],
            "text/plain": [
              "<IPython.core.display.Javascript object>"
            ]
          },
          "metadata": {
            "tags": []
          }
        },
        {
          "output_type": "display_data",
          "data": {
            "application/javascript": [
              "download(\"download_59a8f875-e5e3-41d5-aeff-872cb7f93b64\", \"Boku_no_Hero_Academia_-_Chapter_268_-_.zip\", 2861851)"
            ],
            "text/plain": [
              "<IPython.core.display.Javascript object>"
            ]
          },
          "metadata": {
            "tags": []
          }
        },
        {
          "output_type": "stream",
          "text": [
            "/content/Boku_no_Hero_Academia_-_Chapter_269_-_\n"
          ],
          "name": "stdout"
        },
        {
          "output_type": "display_data",
          "data": {
            "application/javascript": [
              "\n",
              "    async function download(id, filename, size) {\n",
              "      if (!google.colab.kernel.accessAllowed) {\n",
              "        return;\n",
              "      }\n",
              "      const div = document.createElement('div');\n",
              "      const label = document.createElement('label');\n",
              "      label.textContent = `Downloading \"${filename}\": `;\n",
              "      div.appendChild(label);\n",
              "      const progress = document.createElement('progress');\n",
              "      progress.max = size;\n",
              "      div.appendChild(progress);\n",
              "      document.body.appendChild(div);\n",
              "\n",
              "      const buffers = [];\n",
              "      let downloaded = 0;\n",
              "\n",
              "      const channel = await google.colab.kernel.comms.open(id);\n",
              "      // Send a message to notify the kernel that we're ready.\n",
              "      channel.send({})\n",
              "\n",
              "      for await (const message of channel.messages) {\n",
              "        // Send a message to notify the kernel that we're ready.\n",
              "        channel.send({})\n",
              "        if (message.buffers) {\n",
              "          for (const buffer of message.buffers) {\n",
              "            buffers.push(buffer);\n",
              "            downloaded += buffer.byteLength;\n",
              "            progress.value = downloaded;\n",
              "          }\n",
              "        }\n",
              "      }\n",
              "      const blob = new Blob(buffers, {type: 'application/binary'});\n",
              "      const a = document.createElement('a');\n",
              "      a.href = window.URL.createObjectURL(blob);\n",
              "      a.download = filename;\n",
              "      div.appendChild(a);\n",
              "      a.click();\n",
              "      div.remove();\n",
              "    }\n",
              "  "
            ],
            "text/plain": [
              "<IPython.core.display.Javascript object>"
            ]
          },
          "metadata": {
            "tags": []
          }
        },
        {
          "output_type": "display_data",
          "data": {
            "application/javascript": [
              "download(\"download_23b22083-0bb8-475a-986e-9f7c05caa813\", \"Boku_no_Hero_Academia_-_Chapter_269_-_.zip\", 3134287)"
            ],
            "text/plain": [
              "<IPython.core.display.Javascript object>"
            ]
          },
          "metadata": {
            "tags": []
          }
        },
        {
          "output_type": "stream",
          "text": [
            "/content/Boku_no_Hero_Academia_-_Chapter_270_-_\n"
          ],
          "name": "stdout"
        },
        {
          "output_type": "display_data",
          "data": {
            "application/javascript": [
              "\n",
              "    async function download(id, filename, size) {\n",
              "      if (!google.colab.kernel.accessAllowed) {\n",
              "        return;\n",
              "      }\n",
              "      const div = document.createElement('div');\n",
              "      const label = document.createElement('label');\n",
              "      label.textContent = `Downloading \"${filename}\": `;\n",
              "      div.appendChild(label);\n",
              "      const progress = document.createElement('progress');\n",
              "      progress.max = size;\n",
              "      div.appendChild(progress);\n",
              "      document.body.appendChild(div);\n",
              "\n",
              "      const buffers = [];\n",
              "      let downloaded = 0;\n",
              "\n",
              "      const channel = await google.colab.kernel.comms.open(id);\n",
              "      // Send a message to notify the kernel that we're ready.\n",
              "      channel.send({})\n",
              "\n",
              "      for await (const message of channel.messages) {\n",
              "        // Send a message to notify the kernel that we're ready.\n",
              "        channel.send({})\n",
              "        if (message.buffers) {\n",
              "          for (const buffer of message.buffers) {\n",
              "            buffers.push(buffer);\n",
              "            downloaded += buffer.byteLength;\n",
              "            progress.value = downloaded;\n",
              "          }\n",
              "        }\n",
              "      }\n",
              "      const blob = new Blob(buffers, {type: 'application/binary'});\n",
              "      const a = document.createElement('a');\n",
              "      a.href = window.URL.createObjectURL(blob);\n",
              "      a.download = filename;\n",
              "      div.appendChild(a);\n",
              "      a.click();\n",
              "      div.remove();\n",
              "    }\n",
              "  "
            ],
            "text/plain": [
              "<IPython.core.display.Javascript object>"
            ]
          },
          "metadata": {
            "tags": []
          }
        },
        {
          "output_type": "display_data",
          "data": {
            "application/javascript": [
              "download(\"download_3bb8a291-e5b7-4459-b1e6-efdb886f3fa6\", \"Boku_no_Hero_Academia_-_Chapter_270_-_.zip\", 3305505)"
            ],
            "text/plain": [
              "<IPython.core.display.Javascript object>"
            ]
          },
          "metadata": {
            "tags": []
          }
        },
        {
          "output_type": "stream",
          "text": [
            "/content/Boku_no_Hero_Academia_-_Chapter_271_-_\n"
          ],
          "name": "stdout"
        },
        {
          "output_type": "display_data",
          "data": {
            "application/javascript": [
              "\n",
              "    async function download(id, filename, size) {\n",
              "      if (!google.colab.kernel.accessAllowed) {\n",
              "        return;\n",
              "      }\n",
              "      const div = document.createElement('div');\n",
              "      const label = document.createElement('label');\n",
              "      label.textContent = `Downloading \"${filename}\": `;\n",
              "      div.appendChild(label);\n",
              "      const progress = document.createElement('progress');\n",
              "      progress.max = size;\n",
              "      div.appendChild(progress);\n",
              "      document.body.appendChild(div);\n",
              "\n",
              "      const buffers = [];\n",
              "      let downloaded = 0;\n",
              "\n",
              "      const channel = await google.colab.kernel.comms.open(id);\n",
              "      // Send a message to notify the kernel that we're ready.\n",
              "      channel.send({})\n",
              "\n",
              "      for await (const message of channel.messages) {\n",
              "        // Send a message to notify the kernel that we're ready.\n",
              "        channel.send({})\n",
              "        if (message.buffers) {\n",
              "          for (const buffer of message.buffers) {\n",
              "            buffers.push(buffer);\n",
              "            downloaded += buffer.byteLength;\n",
              "            progress.value = downloaded;\n",
              "          }\n",
              "        }\n",
              "      }\n",
              "      const blob = new Blob(buffers, {type: 'application/binary'});\n",
              "      const a = document.createElement('a');\n",
              "      a.href = window.URL.createObjectURL(blob);\n",
              "      a.download = filename;\n",
              "      div.appendChild(a);\n",
              "      a.click();\n",
              "      div.remove();\n",
              "    }\n",
              "  "
            ],
            "text/plain": [
              "<IPython.core.display.Javascript object>"
            ]
          },
          "metadata": {
            "tags": []
          }
        },
        {
          "output_type": "display_data",
          "data": {
            "application/javascript": [
              "download(\"download_a4736fae-7951-4aeb-ad04-d6c2dcd0819d\", \"Boku_no_Hero_Academia_-_Chapter_271_-_.zip\", 3315676)"
            ],
            "text/plain": [
              "<IPython.core.display.Javascript object>"
            ]
          },
          "metadata": {
            "tags": []
          }
        },
        {
          "output_type": "stream",
          "text": [
            "/content/Boku_no_Hero_Academia_-_Chapter_272_-_\n"
          ],
          "name": "stdout"
        },
        {
          "output_type": "display_data",
          "data": {
            "application/javascript": [
              "\n",
              "    async function download(id, filename, size) {\n",
              "      if (!google.colab.kernel.accessAllowed) {\n",
              "        return;\n",
              "      }\n",
              "      const div = document.createElement('div');\n",
              "      const label = document.createElement('label');\n",
              "      label.textContent = `Downloading \"${filename}\": `;\n",
              "      div.appendChild(label);\n",
              "      const progress = document.createElement('progress');\n",
              "      progress.max = size;\n",
              "      div.appendChild(progress);\n",
              "      document.body.appendChild(div);\n",
              "\n",
              "      const buffers = [];\n",
              "      let downloaded = 0;\n",
              "\n",
              "      const channel = await google.colab.kernel.comms.open(id);\n",
              "      // Send a message to notify the kernel that we're ready.\n",
              "      channel.send({})\n",
              "\n",
              "      for await (const message of channel.messages) {\n",
              "        // Send a message to notify the kernel that we're ready.\n",
              "        channel.send({})\n",
              "        if (message.buffers) {\n",
              "          for (const buffer of message.buffers) {\n",
              "            buffers.push(buffer);\n",
              "            downloaded += buffer.byteLength;\n",
              "            progress.value = downloaded;\n",
              "          }\n",
              "        }\n",
              "      }\n",
              "      const blob = new Blob(buffers, {type: 'application/binary'});\n",
              "      const a = document.createElement('a');\n",
              "      a.href = window.URL.createObjectURL(blob);\n",
              "      a.download = filename;\n",
              "      div.appendChild(a);\n",
              "      a.click();\n",
              "      div.remove();\n",
              "    }\n",
              "  "
            ],
            "text/plain": [
              "<IPython.core.display.Javascript object>"
            ]
          },
          "metadata": {
            "tags": []
          }
        },
        {
          "output_type": "display_data",
          "data": {
            "application/javascript": [
              "download(\"download_b5ae488d-ed76-481b-90a9-bc6a202b4dda\", \"Boku_no_Hero_Academia_-_Chapter_272_-_.zip\", 7920476)"
            ],
            "text/plain": [
              "<IPython.core.display.Javascript object>"
            ]
          },
          "metadata": {
            "tags": []
          }
        },
        {
          "output_type": "stream",
          "text": [
            "/content/Boku_no_Hero_Academia_-_Chapter_273_-_\n"
          ],
          "name": "stdout"
        },
        {
          "output_type": "display_data",
          "data": {
            "application/javascript": [
              "\n",
              "    async function download(id, filename, size) {\n",
              "      if (!google.colab.kernel.accessAllowed) {\n",
              "        return;\n",
              "      }\n",
              "      const div = document.createElement('div');\n",
              "      const label = document.createElement('label');\n",
              "      label.textContent = `Downloading \"${filename}\": `;\n",
              "      div.appendChild(label);\n",
              "      const progress = document.createElement('progress');\n",
              "      progress.max = size;\n",
              "      div.appendChild(progress);\n",
              "      document.body.appendChild(div);\n",
              "\n",
              "      const buffers = [];\n",
              "      let downloaded = 0;\n",
              "\n",
              "      const channel = await google.colab.kernel.comms.open(id);\n",
              "      // Send a message to notify the kernel that we're ready.\n",
              "      channel.send({})\n",
              "\n",
              "      for await (const message of channel.messages) {\n",
              "        // Send a message to notify the kernel that we're ready.\n",
              "        channel.send({})\n",
              "        if (message.buffers) {\n",
              "          for (const buffer of message.buffers) {\n",
              "            buffers.push(buffer);\n",
              "            downloaded += buffer.byteLength;\n",
              "            progress.value = downloaded;\n",
              "          }\n",
              "        }\n",
              "      }\n",
              "      const blob = new Blob(buffers, {type: 'application/binary'});\n",
              "      const a = document.createElement('a');\n",
              "      a.href = window.URL.createObjectURL(blob);\n",
              "      a.download = filename;\n",
              "      div.appendChild(a);\n",
              "      a.click();\n",
              "      div.remove();\n",
              "    }\n",
              "  "
            ],
            "text/plain": [
              "<IPython.core.display.Javascript object>"
            ]
          },
          "metadata": {
            "tags": []
          }
        },
        {
          "output_type": "display_data",
          "data": {
            "application/javascript": [
              "download(\"download_2b91ee3b-e4f1-4000-a570-e3e4039ea41f\", \"Boku_no_Hero_Academia_-_Chapter_273_-_.zip\", 7526713)"
            ],
            "text/plain": [
              "<IPython.core.display.Javascript object>"
            ]
          },
          "metadata": {
            "tags": []
          }
        },
        {
          "output_type": "stream",
          "text": [
            "/content/Boku_no_Hero_Academia_-_Chapter_274_-_\n"
          ],
          "name": "stdout"
        },
        {
          "output_type": "display_data",
          "data": {
            "application/javascript": [
              "\n",
              "    async function download(id, filename, size) {\n",
              "      if (!google.colab.kernel.accessAllowed) {\n",
              "        return;\n",
              "      }\n",
              "      const div = document.createElement('div');\n",
              "      const label = document.createElement('label');\n",
              "      label.textContent = `Downloading \"${filename}\": `;\n",
              "      div.appendChild(label);\n",
              "      const progress = document.createElement('progress');\n",
              "      progress.max = size;\n",
              "      div.appendChild(progress);\n",
              "      document.body.appendChild(div);\n",
              "\n",
              "      const buffers = [];\n",
              "      let downloaded = 0;\n",
              "\n",
              "      const channel = await google.colab.kernel.comms.open(id);\n",
              "      // Send a message to notify the kernel that we're ready.\n",
              "      channel.send({})\n",
              "\n",
              "      for await (const message of channel.messages) {\n",
              "        // Send a message to notify the kernel that we're ready.\n",
              "        channel.send({})\n",
              "        if (message.buffers) {\n",
              "          for (const buffer of message.buffers) {\n",
              "            buffers.push(buffer);\n",
              "            downloaded += buffer.byteLength;\n",
              "            progress.value = downloaded;\n",
              "          }\n",
              "        }\n",
              "      }\n",
              "      const blob = new Blob(buffers, {type: 'application/binary'});\n",
              "      const a = document.createElement('a');\n",
              "      a.href = window.URL.createObjectURL(blob);\n",
              "      a.download = filename;\n",
              "      div.appendChild(a);\n",
              "      a.click();\n",
              "      div.remove();\n",
              "    }\n",
              "  "
            ],
            "text/plain": [
              "<IPython.core.display.Javascript object>"
            ]
          },
          "metadata": {
            "tags": []
          }
        },
        {
          "output_type": "display_data",
          "data": {
            "application/javascript": [
              "download(\"download_7fdce848-2c71-484d-9a30-f6423fdc3679\", \"Boku_no_Hero_Academia_-_Chapter_274_-_.zip\", 7443168)"
            ],
            "text/plain": [
              "<IPython.core.display.Javascript object>"
            ]
          },
          "metadata": {
            "tags": []
          }
        },
        {
          "output_type": "stream",
          "text": [
            "/content/Boku_no_Hero_Academia_-_Chapter_275_-_\n"
          ],
          "name": "stdout"
        },
        {
          "output_type": "display_data",
          "data": {
            "application/javascript": [
              "\n",
              "    async function download(id, filename, size) {\n",
              "      if (!google.colab.kernel.accessAllowed) {\n",
              "        return;\n",
              "      }\n",
              "      const div = document.createElement('div');\n",
              "      const label = document.createElement('label');\n",
              "      label.textContent = `Downloading \"${filename}\": `;\n",
              "      div.appendChild(label);\n",
              "      const progress = document.createElement('progress');\n",
              "      progress.max = size;\n",
              "      div.appendChild(progress);\n",
              "      document.body.appendChild(div);\n",
              "\n",
              "      const buffers = [];\n",
              "      let downloaded = 0;\n",
              "\n",
              "      const channel = await google.colab.kernel.comms.open(id);\n",
              "      // Send a message to notify the kernel that we're ready.\n",
              "      channel.send({})\n",
              "\n",
              "      for await (const message of channel.messages) {\n",
              "        // Send a message to notify the kernel that we're ready.\n",
              "        channel.send({})\n",
              "        if (message.buffers) {\n",
              "          for (const buffer of message.buffers) {\n",
              "            buffers.push(buffer);\n",
              "            downloaded += buffer.byteLength;\n",
              "            progress.value = downloaded;\n",
              "          }\n",
              "        }\n",
              "      }\n",
              "      const blob = new Blob(buffers, {type: 'application/binary'});\n",
              "      const a = document.createElement('a');\n",
              "      a.href = window.URL.createObjectURL(blob);\n",
              "      a.download = filename;\n",
              "      div.appendChild(a);\n",
              "      a.click();\n",
              "      div.remove();\n",
              "    }\n",
              "  "
            ],
            "text/plain": [
              "<IPython.core.display.Javascript object>"
            ]
          },
          "metadata": {
            "tags": []
          }
        },
        {
          "output_type": "display_data",
          "data": {
            "application/javascript": [
              "download(\"download_60a3520d-bf05-4da1-9f54-6acf661d7abd\", \"Boku_no_Hero_Academia_-_Chapter_275_-_.zip\", 9400819)"
            ],
            "text/plain": [
              "<IPython.core.display.Javascript object>"
            ]
          },
          "metadata": {
            "tags": []
          }
        },
        {
          "output_type": "stream",
          "text": [
            "/content/Boku_no_Hero_Academia_-_Chapter_276_-_\n"
          ],
          "name": "stdout"
        },
        {
          "output_type": "display_data",
          "data": {
            "application/javascript": [
              "\n",
              "    async function download(id, filename, size) {\n",
              "      if (!google.colab.kernel.accessAllowed) {\n",
              "        return;\n",
              "      }\n",
              "      const div = document.createElement('div');\n",
              "      const label = document.createElement('label');\n",
              "      label.textContent = `Downloading \"${filename}\": `;\n",
              "      div.appendChild(label);\n",
              "      const progress = document.createElement('progress');\n",
              "      progress.max = size;\n",
              "      div.appendChild(progress);\n",
              "      document.body.appendChild(div);\n",
              "\n",
              "      const buffers = [];\n",
              "      let downloaded = 0;\n",
              "\n",
              "      const channel = await google.colab.kernel.comms.open(id);\n",
              "      // Send a message to notify the kernel that we're ready.\n",
              "      channel.send({})\n",
              "\n",
              "      for await (const message of channel.messages) {\n",
              "        // Send a message to notify the kernel that we're ready.\n",
              "        channel.send({})\n",
              "        if (message.buffers) {\n",
              "          for (const buffer of message.buffers) {\n",
              "            buffers.push(buffer);\n",
              "            downloaded += buffer.byteLength;\n",
              "            progress.value = downloaded;\n",
              "          }\n",
              "        }\n",
              "      }\n",
              "      const blob = new Blob(buffers, {type: 'application/binary'});\n",
              "      const a = document.createElement('a');\n",
              "      a.href = window.URL.createObjectURL(blob);\n",
              "      a.download = filename;\n",
              "      div.appendChild(a);\n",
              "      a.click();\n",
              "      div.remove();\n",
              "    }\n",
              "  "
            ],
            "text/plain": [
              "<IPython.core.display.Javascript object>"
            ]
          },
          "metadata": {
            "tags": []
          }
        },
        {
          "output_type": "display_data",
          "data": {
            "application/javascript": [
              "download(\"download_4ed6fcc9-430a-4dfe-8fd6-cc24030dcb36\", \"Boku_no_Hero_Academia_-_Chapter_276_-_.zip\", 7712764)"
            ],
            "text/plain": [
              "<IPython.core.display.Javascript object>"
            ]
          },
          "metadata": {
            "tags": []
          }
        },
        {
          "output_type": "stream",
          "text": [
            "/content/Boku_no_Hero_Academia_-_Chapter_277_-_\n"
          ],
          "name": "stdout"
        },
        {
          "output_type": "display_data",
          "data": {
            "application/javascript": [
              "\n",
              "    async function download(id, filename, size) {\n",
              "      if (!google.colab.kernel.accessAllowed) {\n",
              "        return;\n",
              "      }\n",
              "      const div = document.createElement('div');\n",
              "      const label = document.createElement('label');\n",
              "      label.textContent = `Downloading \"${filename}\": `;\n",
              "      div.appendChild(label);\n",
              "      const progress = document.createElement('progress');\n",
              "      progress.max = size;\n",
              "      div.appendChild(progress);\n",
              "      document.body.appendChild(div);\n",
              "\n",
              "      const buffers = [];\n",
              "      let downloaded = 0;\n",
              "\n",
              "      const channel = await google.colab.kernel.comms.open(id);\n",
              "      // Send a message to notify the kernel that we're ready.\n",
              "      channel.send({})\n",
              "\n",
              "      for await (const message of channel.messages) {\n",
              "        // Send a message to notify the kernel that we're ready.\n",
              "        channel.send({})\n",
              "        if (message.buffers) {\n",
              "          for (const buffer of message.buffers) {\n",
              "            buffers.push(buffer);\n",
              "            downloaded += buffer.byteLength;\n",
              "            progress.value = downloaded;\n",
              "          }\n",
              "        }\n",
              "      }\n",
              "      const blob = new Blob(buffers, {type: 'application/binary'});\n",
              "      const a = document.createElement('a');\n",
              "      a.href = window.URL.createObjectURL(blob);\n",
              "      a.download = filename;\n",
              "      div.appendChild(a);\n",
              "      a.click();\n",
              "      div.remove();\n",
              "    }\n",
              "  "
            ],
            "text/plain": [
              "<IPython.core.display.Javascript object>"
            ]
          },
          "metadata": {
            "tags": []
          }
        },
        {
          "output_type": "display_data",
          "data": {
            "application/javascript": [
              "download(\"download_8a03703c-f0c9-4a0b-bb99-257f58229fa1\", \"Boku_no_Hero_Academia_-_Chapter_277_-_.zip\", 6921062)"
            ],
            "text/plain": [
              "<IPython.core.display.Javascript object>"
            ]
          },
          "metadata": {
            "tags": []
          }
        },
        {
          "output_type": "stream",
          "text": [
            "/content/Boku_no_Hero_Academia_-_Chapter_278_-_\n"
          ],
          "name": "stdout"
        },
        {
          "output_type": "display_data",
          "data": {
            "application/javascript": [
              "\n",
              "    async function download(id, filename, size) {\n",
              "      if (!google.colab.kernel.accessAllowed) {\n",
              "        return;\n",
              "      }\n",
              "      const div = document.createElement('div');\n",
              "      const label = document.createElement('label');\n",
              "      label.textContent = `Downloading \"${filename}\": `;\n",
              "      div.appendChild(label);\n",
              "      const progress = document.createElement('progress');\n",
              "      progress.max = size;\n",
              "      div.appendChild(progress);\n",
              "      document.body.appendChild(div);\n",
              "\n",
              "      const buffers = [];\n",
              "      let downloaded = 0;\n",
              "\n",
              "      const channel = await google.colab.kernel.comms.open(id);\n",
              "      // Send a message to notify the kernel that we're ready.\n",
              "      channel.send({})\n",
              "\n",
              "      for await (const message of channel.messages) {\n",
              "        // Send a message to notify the kernel that we're ready.\n",
              "        channel.send({})\n",
              "        if (message.buffers) {\n",
              "          for (const buffer of message.buffers) {\n",
              "            buffers.push(buffer);\n",
              "            downloaded += buffer.byteLength;\n",
              "            progress.value = downloaded;\n",
              "          }\n",
              "        }\n",
              "      }\n",
              "      const blob = new Blob(buffers, {type: 'application/binary'});\n",
              "      const a = document.createElement('a');\n",
              "      a.href = window.URL.createObjectURL(blob);\n",
              "      a.download = filename;\n",
              "      div.appendChild(a);\n",
              "      a.click();\n",
              "      div.remove();\n",
              "    }\n",
              "  "
            ],
            "text/plain": [
              "<IPython.core.display.Javascript object>"
            ]
          },
          "metadata": {
            "tags": []
          }
        },
        {
          "output_type": "display_data",
          "data": {
            "application/javascript": [
              "download(\"download_7e92e029-75c0-436f-a917-11b7646afbed\", \"Boku_no_Hero_Academia_-_Chapter_278_-_.zip\", 6666108)"
            ],
            "text/plain": [
              "<IPython.core.display.Javascript object>"
            ]
          },
          "metadata": {
            "tags": []
          }
        },
        {
          "output_type": "stream",
          "text": [
            "/content/Boku_no_Hero_Academia_-_Chapter_279_-_\n"
          ],
          "name": "stdout"
        },
        {
          "output_type": "display_data",
          "data": {
            "application/javascript": [
              "\n",
              "    async function download(id, filename, size) {\n",
              "      if (!google.colab.kernel.accessAllowed) {\n",
              "        return;\n",
              "      }\n",
              "      const div = document.createElement('div');\n",
              "      const label = document.createElement('label');\n",
              "      label.textContent = `Downloading \"${filename}\": `;\n",
              "      div.appendChild(label);\n",
              "      const progress = document.createElement('progress');\n",
              "      progress.max = size;\n",
              "      div.appendChild(progress);\n",
              "      document.body.appendChild(div);\n",
              "\n",
              "      const buffers = [];\n",
              "      let downloaded = 0;\n",
              "\n",
              "      const channel = await google.colab.kernel.comms.open(id);\n",
              "      // Send a message to notify the kernel that we're ready.\n",
              "      channel.send({})\n",
              "\n",
              "      for await (const message of channel.messages) {\n",
              "        // Send a message to notify the kernel that we're ready.\n",
              "        channel.send({})\n",
              "        if (message.buffers) {\n",
              "          for (const buffer of message.buffers) {\n",
              "            buffers.push(buffer);\n",
              "            downloaded += buffer.byteLength;\n",
              "            progress.value = downloaded;\n",
              "          }\n",
              "        }\n",
              "      }\n",
              "      const blob = new Blob(buffers, {type: 'application/binary'});\n",
              "      const a = document.createElement('a');\n",
              "      a.href = window.URL.createObjectURL(blob);\n",
              "      a.download = filename;\n",
              "      div.appendChild(a);\n",
              "      a.click();\n",
              "      div.remove();\n",
              "    }\n",
              "  "
            ],
            "text/plain": [
              "<IPython.core.display.Javascript object>"
            ]
          },
          "metadata": {
            "tags": []
          }
        },
        {
          "output_type": "display_data",
          "data": {
            "application/javascript": [
              "download(\"download_d775de6f-b45a-49b6-97c5-ef26ef6a3d3c\", \"Boku_no_Hero_Academia_-_Chapter_279_-_.zip\", 7244413)"
            ],
            "text/plain": [
              "<IPython.core.display.Javascript object>"
            ]
          },
          "metadata": {
            "tags": []
          }
        },
        {
          "output_type": "stream",
          "text": [
            "/content/Boku_no_Hero_Academia_-_Chapter_280_-_\n"
          ],
          "name": "stdout"
        },
        {
          "output_type": "display_data",
          "data": {
            "application/javascript": [
              "\n",
              "    async function download(id, filename, size) {\n",
              "      if (!google.colab.kernel.accessAllowed) {\n",
              "        return;\n",
              "      }\n",
              "      const div = document.createElement('div');\n",
              "      const label = document.createElement('label');\n",
              "      label.textContent = `Downloading \"${filename}\": `;\n",
              "      div.appendChild(label);\n",
              "      const progress = document.createElement('progress');\n",
              "      progress.max = size;\n",
              "      div.appendChild(progress);\n",
              "      document.body.appendChild(div);\n",
              "\n",
              "      const buffers = [];\n",
              "      let downloaded = 0;\n",
              "\n",
              "      const channel = await google.colab.kernel.comms.open(id);\n",
              "      // Send a message to notify the kernel that we're ready.\n",
              "      channel.send({})\n",
              "\n",
              "      for await (const message of channel.messages) {\n",
              "        // Send a message to notify the kernel that we're ready.\n",
              "        channel.send({})\n",
              "        if (message.buffers) {\n",
              "          for (const buffer of message.buffers) {\n",
              "            buffers.push(buffer);\n",
              "            downloaded += buffer.byteLength;\n",
              "            progress.value = downloaded;\n",
              "          }\n",
              "        }\n",
              "      }\n",
              "      const blob = new Blob(buffers, {type: 'application/binary'});\n",
              "      const a = document.createElement('a');\n",
              "      a.href = window.URL.createObjectURL(blob);\n",
              "      a.download = filename;\n",
              "      div.appendChild(a);\n",
              "      a.click();\n",
              "      div.remove();\n",
              "    }\n",
              "  "
            ],
            "text/plain": [
              "<IPython.core.display.Javascript object>"
            ]
          },
          "metadata": {
            "tags": []
          }
        },
        {
          "output_type": "display_data",
          "data": {
            "application/javascript": [
              "download(\"download_9b92a93b-3347-44a6-9a87-d7cbcd02070d\", \"Boku_no_Hero_Academia_-_Chapter_280_-_.zip\", 7871670)"
            ],
            "text/plain": [
              "<IPython.core.display.Javascript object>"
            ]
          },
          "metadata": {
            "tags": []
          }
        },
        {
          "output_type": "stream",
          "text": [
            "Downloaded chapters: \n",
            "['One_Piece_-_Chapter_995_-_', 'One_Piece_-_Chapter_996_-_', 'Boku_no_Hero_Academia_-_Chapter_260_-_', 'Boku_no_Hero_Academia_-_Chapter_261_-_', 'Boku_no_Hero_Academia_-_Chapter_262_-_', 'Boku_no_Hero_Academia_-_Chapter_263_-_', 'Boku_no_Hero_Academia_-_Chapter_264_-_', 'Boku_no_Hero_Academia_-_Chapter_265_-_', 'Boku_no_Hero_Academia_-_Chapter_266_-_', 'Boku_no_Hero_Academia_-_Chapter_267_-_', 'Boku_no_Hero_Academia_-_Chapter_268_-_', 'Boku_no_Hero_Academia_-_Chapter_269_-_', 'Boku_no_Hero_Academia_-_Chapter_270_-_', 'Boku_no_Hero_Academia_-_Chapter_271_-_', 'Boku_no_Hero_Academia_-_Chapter_272_-_', 'Boku_no_Hero_Academia_-_Chapter_273_-_', 'Boku_no_Hero_Academia_-_Chapter_274_-_', 'Boku_no_Hero_Academia_-_Chapter_275_-_', 'Boku_no_Hero_Academia_-_Chapter_276_-_', 'Boku_no_Hero_Academia_-_Chapter_277_-_', 'Boku_no_Hero_Academia_-_Chapter_278_-_', 'Boku_no_Hero_Academia_-_Chapter_279_-_', 'Boku_no_Hero_Academia_-_Chapter_280_-_']\n"
          ],
          "name": "stdout"
        }
      ]
    },
    {
      "cell_type": "code",
      "metadata": {
        "colab": {
          "base_uri": "https://localhost:8080/"
        },
        "id": "Dn6ALvxfdYa9",
        "outputId": "b56223b7-392d-451f-f2af-74ee4775b3fb"
      },
      "source": [
        "# Delete everything in the Google Drive Folder\n",
        "\n",
        "# Shell command always run first before the python in-line\n",
        "for i in range(len(completed)):\n",
        "    os.system('rm -rf ' + completed[i])\n",
        "    os.system('rm ' + completed[i] + '.zip')\n",
        "os.chdir(hpath)\n",
        "completed = []\n",
        "chapters = []\n",
        "!ls"
      ],
      "execution_count": 68,
      "outputs": [
        {
          "output_type": "stream",
          "text": [
            "sample_data\n"
          ],
          "name": "stdout"
        }
      ]
    },
    {
      "cell_type": "code",
      "metadata": {
        "id": "YXftAJXUVvNC"
      },
      "source": [
        ""
      ],
      "execution_count": null,
      "outputs": []
    }
  ]
}